{
 "cells": [
  {
   "cell_type": "markdown",
   "metadata": {},
   "source": [
    "---\n",
    "layout: post\n",
    "title: PBL review blog\n",
    "categories: [AP CSA]\n",
    "permalink: /PBLreview\n",
    "---"
   ]
  },
  {
   "cell_type": "markdown",
   "metadata": {},
   "source": [
    "## Key role and accomplishment in Jan on Student-toolkit\n",
    "- Fixed up some of the bugs with submitting without logging in(alerts the user in browser)\n",
    "\n",
    "<img width=\"1204\" alt=\"Image\" src=\"https://github.com/user-attachments/assets/d30782ad-035b-430a-843f-1322ebcb082f\" />\n",
    "\n",
    "- Made a deadline show on the assignment-submission page, so people know how much time they have left. If deadline has passed it is violently red and shakes intensely. \n",
    "\n",
    "<img width=\"1051\" alt=\"Image\" src=\"https://github.com/user-attachments/assets/61c4e5d8-dc03-41eb-9a57-72faa5220096\" />\n",
    "\n",
    "<img width=\"1026\" alt=\"Image\" src=\"https://github.com/user-attachments/assets/7443009c-4458-45a6-aca5-7bb41833289e\" />\n",
    "\n",
    "- Made a grade page to view the grades from all assignments(which is completely different from the assignment-submission page)\n",
    "\n",
    "<img width=\"920\" alt=\"Image\" src=\"https://github.com/user-attachments/assets/708b0226-6312-458e-9cd5-43fec78879b9\" />\n",
    "\n",
    "\n",
    "\n",
    "## issues and key commits via Data and Analytics\n",
    "\n",
    "| Link | Description | \n",
    "|----------|----------|\n",
    "| [link](https://github.com/CSA-Coders-2025/CSA_Combined_Frontend_Fork/commit/1df5a8fd0550a530dea6019ddbc97bc0eeb05dfd) | Populating grade table with grades from each assignment (both labeled) |\n",
    "| [link](https://github.com/CSA-Coders-2025/CSA_Combined_Frontend_Fork/commit/219795f2c0253b7e8b105b2acc5e55901ac614f7) | Deadline Key Commit on the submission page | \n",
    "| [link](https://github.com/CSA-Coders-2025/CSA_Combined_Frontend_Fork/commit/84dce5152cd992fe869493f6f8928329cf9cdcb5) | Fixing the bug with submitting without logging in by alerting user to log in | \n",
    "\n",
    "\n",
    "\n",
    "## Retrospective\n",
    "- Able to learn about different java backend stuff including Thymeleaf(making life easier)\n",
    "- Learned about different frontend features including keyframe\n",
    "- Iteration is pretty important to do as the version you currently have won't necessarily be the best final version you could produce\n",
    "- Sometimes simplicity is best(especially in frontend it looks better without the glows in my opinion)\n",
    "- Made Notes on the frq teamteaches and collected homework together to view before ap exam for extra prep\n",
    "https://tarunja1ks.github.io/CSATarunStudent/csa/FRQ/Homepages"
   ]
  }
 ],
 "metadata": {
  "language_info": {
   "name": "python"
  }
 },
 "nbformat": 4,
 "nbformat_minor": 2
}
