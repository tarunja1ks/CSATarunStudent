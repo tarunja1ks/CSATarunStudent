{
 "cells": [
  {
   "cell_type": "markdown",
   "id": "63a2113a",
   "metadata": {},
   "source": [
    "---\n",
    "layout: post\n",
    "title: Final Checkouts\n",
    "description: Checkout for final and what I have done\n",
    "permalink: /csa/FinalCheckout\n",
    "---\n"
   ]
  },
  {
   "cell_type": "markdown",
   "id": "155ce0f7",
   "metadata": {},
   "source": [
    "Blog. Overview of Projects from Blog. Highlight your Unique qualities.\n",
    "Blog. Certification of  Articulation Success with Data Structures, homework page.\n",
    "Blog. Describe how you have showcased projects (ie N@tM June 2025)"
   ]
  },
  {
   "cell_type": "markdown",
   "id": "77bb5ea3",
   "metadata": {},
   "source": [
    "## Open Coding Society\n",
    "- Developed a submission feature for assignments(coding in both front and backend), which allows students to submit homework in groups in a streamlined way\n",
    "- Led toolkit ui sp that would increase retention rate and allow easy navigation across the site for each tooklit feature\n",
    "- Comunicated with other group leaders to coordinate smooth transition across the entire site\n",
    "\n",
    "\n",
    "<img width=\"1444\" alt=\"Image\" src=\"https://github.com/user-attachments/assets/884b80cb-801b-4a28-9523-1cdcabf7d5a8\" />\n",
    "\n",
    "<img width=\"1470\" alt=\"Image\" src=\"https://github.com/user-attachments/assets/3dab35b7-7898-4ca8-909d-8f101303d1fe\" />\n",
    "\n",
    "<img width=\"232\" alt=\"Image\" src=\"https://github.com/user-attachments/assets/faef62e7-8c78-4087-9d8c-8b1d7cfd47fe\" />\n",
    "\n",
    "\n"
   ]
  },
  {
   "cell_type": "markdown",
   "id": "64ea3bbf",
   "metadata": {},
   "source": [
    "## Showcase\n",
    "\n",
    "- NATM: \n"
   ]
  }
 ],
 "metadata": {
  "language_info": {
   "name": "python"
  }
 },
 "nbformat": 4,
 "nbformat_minor": 5
}
