{
 "cells": [
  {
   "cell_type": "markdown",
   "id": "45d13a5a",
   "metadata": {},
   "source": [
    "---\n",
    "layout: post\n",
    "title: Final Documentation\n",
    "description: Documentation\n",
    "permalink: /Documentation\n",
    "---"
   ]
  },
  {
   "cell_type": "markdown",
   "id": "5cdbbc90",
   "metadata": {},
   "source": [
    "Main features/themes:\n",
    "\n",
    "**Frontend UI**\n",
    "\n",
    "Technical:\n",
    "- go to aesthetihawk.html to acsess links to all of the submenu options/edit\n",
    "- make sure it is blue buttons and black/gray so nothing that stands out other than the blue\n",
    "- use svg files for icon items\n",
    "- Use tailwind to keep consistency within the features\n",
    "- Use the layout \"aesthetihawk\" to make sure the page still keeps the submenu\n",
    "\n",
    "Usage:\n",
    "- simply click on the submenu option you want to obtain the page you want(ex: assignment submission page)\n",
    "- Buttons for most part are self explanatory on usage\n",
    "\n",
    "\n",
    "Potential:\n",
    "- Touchup/testing on hallpass\n",
    "- ScreenQueue popup needs a bit of changing but usable(x mark for the popup in top right corner to close and if closed you can reaccess the selecting assignment if you selected wrong)\n",
    "- Overall issues report page(to report any issues that occur)\n",
    "- Layout for maintenece page(making a layout to set a page too if it is broken-> say \"we need maintenence\")\n"
   ]
  },
  {
   "cell_type": "markdown",
   "id": "067821da",
   "metadata": {},
   "source": [
    "**Backend UI**\n",
    "\n",
    "<img width=\"1267\" alt=\"Image\" src=\"https://github.com/user-attachments/assets/e179ef75-bc23-4328-967a-a2af3816b1c7\" />\n",
    "\n",
    "- Update/Update Roles Button popup needs to be improved for person viewer\n",
    "\n",
    "<img width=\"1073\" alt=\"Image\" src=\"https://github.com/user-attachments/assets/62b9d9f5-1219-4e47-b334-6a75c55cb186\" />\n",
    "\n",
    "- Creating groups ui is quite b right and not in unity with the general UI\n",
    "\n",
    "<img width=\"1215\" alt=\"Image\" src=\"https://github.com/user-attachments/assets/6ed0f25f-8e4b-4653-bfca-bcaa868aa55d\" />\n",
    "\n",
    "- Too bright, and also no option to close and then repoen the popup/change assignments\n",
    "\n",
    "- Cleanup the ui of screeenqueue make the 3 columns all in the same y-axis and alligned\n",
    "\n",
    "<img width=\"414\" alt=\"Image\" src=\"https://github.com/user-attachments/assets/d48b4af1-24e5-413a-a74a-49bd510b0510\" />\n",
    "Edit Student Grades option doesn't work\n",
    "\n",
    "<img width=\"1042\" alt=\"Image\" src=\"https://github.com/user-attachments/assets/29ada569-23f1-4de5-9c97-7c853aecdfd1\" />\n",
    "Works fine but I don't like the colorful UI for the buttons and how the buttons are arranged\n",
    "\n"
   ]
  }
 ],
 "metadata": {
  "language_info": {
   "name": "python"
  }
 },
 "nbformat": 4,
 "nbformat_minor": 5
}
