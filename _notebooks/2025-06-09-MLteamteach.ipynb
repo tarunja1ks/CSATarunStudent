{
 "cells": [
  {
   "cell_type": "markdown",
   "id": "9c1354f9",
   "metadata": {},
   "source": [
    "---\n",
    "layout: post\n",
    "title: Ml teamteach\n",
    "description: ML teamteach\n",
    "permalink: /csa/ML\n",
    "---"
   ]
  },
  {
   "cell_type": "code",
   "execution_count": null,
   "id": "6d7a303b",
   "metadata": {
    "vscode": {
     "languageId": "java"
    }
   },
   "outputs": [],
   "source": [
    "// Load the dataset\n",
    "Table wine = Table.read().csv(\"wine.csv\");\n",
    "\n",
    "// Part A: Display summary statistics\n",
    "System.out.println(\"Summary Statistics:\");\n",
    "System.out.println(wine.summary());\n",
    "\n",
    "// Part B: Create a histogram of wine quality distribution\n",
    "Figure qualityHist = Histogram.create(\"Wine Quality Distribution\", wine, \"quality\");\n",
    "Plot.show(qualityHist);\n",
    "\n",
    "// Part B continued: Create a scatter plot of alcohol vs quality\n",
    "Figure alcoholScatter = ScatterPlot.create(\"Alcohol vs Quality\", wine, \"alcohol\", \"quality\");\n",
    "Plot.show(alcoholScatter);\n",
    "\n",
    "// Provided: Group wines by quality level\n",
    "Table qualityGroups = wine.summarize(\n",
    "    \"alcohol\", AggregateFunctions.mean,\n",
    "    \"pH\", AggregateFunctions.mean,\n",
    "    \"volatile acidity\", AggregateFunctions.mean\n",
    ").by(\"quality\");\n",
    "System.out.println(\"\\nCharacteristics by quality level:\");\n",
    "System.out.println(qualityGroups); "
   ]
  },
  {
   "cell_type": "code",
   "execution_count": null,
   "id": "79c16c07",
   "metadata": {
    "vscode": {
     "languageId": "java"
    }
   },
   "outputs": [],
   "source": [
    "// Assume `wine` is your Tablesaw Table already loaded.\n",
    "Table wine = Table.read().csv(\"wine.csv\");\n",
    "\n",
    "// Convert Tablesaw table to SMILE DataFrame\n",
    "String[] colNames = wine.columnNames().toArray(String[]::new);\n",
    "double[][] data = wine.as().doubleMatrix();\n",
    "DataFrame df = DataFrame.of(data, colNames);\n",
    "\n",
    "// Convert quality to IntVector (classification target)\n",
    "IntVector quality = IntVector.of(\"quality\", df.doubleVector(\"quality\").stream()\n",
    "    .mapToInt(d -> (int) d)\n",
    "    .toArray());\n",
    "df = df.drop(\"quality\").merge(quality);\n",
    "\n",
    "// Split data into training and test sets (80/20 split)\n",
    "int n = df.nrows();\n",
    "int[] indices = IntStream.range(0, n).toArray();\n",
    "MathEx.permutate(indices);\n",
    "int splitIndex = (int)(n * 0.8);\n",
    "\n",
    "DataFrame trainDf = df.slice(0, splitIndex);\n",
    "DataFrame testDf = df.slice(splitIndex, n);\n",
    "\n",
    "// Part A: Train a Random Forest model using SMILE\n",
    "int[] yTrain = trainDf.intVector(\"quality\").toIntArray();\n",
    "double[][] xTrain = trainDf.drop(\"quality\").toArray();\n",
    "\n",
    "RandomForest rf = RandomForest.fit(xTrain, yTrain);\n",
    "\n",
    "// Part B: Calculate and display model accuracy\n",
    "int[] yTrue = testDf.intVector(\"quality\").toIntArray();\n",
    "double[][] xTest = testDf.drop(\"quality\").toArray();\n",
    "\n",
    "int[] yPred = rf.predict(xTest);\n",
    "double accuracy = Accuracy.of(yTrue, yPred);\n",
    "\n",
    "System.out.printf(\"SMILE Random Forest Accuracy: %.2f%%\\n\", accuracy * 100);"
   ]
  },
  {
   "cell_type": "code",
   "execution_count": null,
   "id": "059244c4",
   "metadata": {
    "vscode": {
     "languageId": "java"
    }
   },
   "outputs": [],
   "source": [
    "Table wine = Table.read().csv(\"wine.csv\");\n",
    "\n",
    "// Convert to Weka format\n",
    "ArrayList<Attribute> attributes = new ArrayList<>();\n",
    "for (String col : wine.columnNames()) {\n",
    "    if (!col.equals(\"quality\")) {\n",
    "        attributes.add(new Attribute(col));\n",
    "    }\n",
    "}\n",
    "\n",
    "IntColumn qualityCol = (IntColumn) wine.intColumn(\"quality\");\n",
    "int minQuality = (int) qualityCol.min();\n",
    "int maxQuality = (int) qualityCol.max();\n",
    "ArrayList<String> qualityVals = new ArrayList<>();\n",
    "for (int i = minQuality; i <= maxQuality; i++) {\n",
    "    qualityVals.add(String.valueOf(i));\n",
    "}\n",
    "attributes.add(new Attribute(\"quality\", qualityVals));\n",
    "\n",
    "Instances wData = new Instances(\"Wine\", attributes, wine.rowCount());\n",
    "wData.setClassIndex(wData.numAttributes() - 1);\n",
    "\n",
    "for (int i = 0; i < wine.rowCount(); i++) {\n",
    "    double[] vals = new double[wData.numAttributes()];\n",
    "    for (int j = 0; j < wine.columnCount() - 1; j++) {\n",
    "        vals[j] = ((NumberColumn<?, ?>) wine.column(j)).getDouble(i);\n",
    "    }\n",
    "    vals[wData.numAttributes() - 1] = qualityVals.indexOf(String.valueOf(qualityCol.get(i)));\n",
    "    wData.add(new DenseInstance(1.0, vals));\n",
    "}\n",
    "\n",
    "// Split data\n",
    "int trainSize = (int) Math.round(wData.numInstances() * 0.8);\n",
    "Instances train = new Instances(wData, 0, trainSize);\n",
    "Instances test = new Instances(wData, trainSize, wData.numInstances() - trainSize);\n",
    "\n",
    "// Train Weka Random Forest and calculate accuracy\n",
    "RandomForest wekaRf = new RandomForest();\n",
    "\n",
    "try {\n",
    "    wekaRf.buildClassifier(train);\n",
    "\n",
    "    Evaluation eval = new Evaluation(train);\n",
    "    eval.evaluateModel(wekaRf, test);\n",
    "\n",
    "    System.out.printf(\"Weka Random Forest Accuracy: %.2f%%\\n\", eval.pctCorrect());\n",
    "\n",
    "    // Compare models\n",
    "    System.out.println(\"\\nModel Comparison Complete!\");\n",
    "    System.out.println(\"Which model performed better? Analyze the results above.\");\n",
    "\n",
    "} catch (Exception e) {\n",
    "    e.printStackTrace();\n",
    "}"
   ]
  }
 ],
 "metadata": {
  "language_info": {
   "name": "python"
  }
 },
 "nbformat": 4,
 "nbformat_minor": 5
}
