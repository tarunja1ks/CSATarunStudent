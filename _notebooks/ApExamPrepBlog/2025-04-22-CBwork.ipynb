{
 "cells": [
  {
   "cell_type": "markdown",
   "id": "12ee7465",
   "metadata": {},
   "source": [
    "---\n",
    "layout: post\n",
    "title: MCQ Work\n",
    "description: MCQ Preperation\n",
    "permalink: /csa/CBMCQ\n",
    "menu: nav/CSA_Units/StudyForCB.html\n",
    "---"
   ]
  },
  {
   "cell_type": "markdown",
   "id": "1dd43343",
   "metadata": {},
   "source": [
    "## MCQ Work"
   ]
  },
  {
   "cell_type": "markdown",
   "id": "999f6a09",
   "metadata": {},
   "source": [
    "<img width=\"1435\" alt=\"Image\" src=\"https://github.com/user-attachments/assets/cc56c29e-ff1c-4f68-9ca9-9f7add07888a\" /> "
   ]
  },
  {
   "cell_type": "markdown",
   "id": "606e0d7c",
   "metadata": {
    "vscode": {
     "languageId": "plaintext"
    }
   },
   "source": [
    "- Key Topics to Focus on:\n",
    "    - ArrayLists\n",
    "    - Writing classes\n",
    "    - 2d Arrays\n"
   ]
  },
  {
   "cell_type": "code",
   "execution_count": 11,
   "id": "68929b39",
   "metadata": {
    "vscode": {
     "languageId": "java"
    }
   },
   "outputs": [
    {
     "name": "stdout",
     "output_type": "stream",
     "text": [
      "\n",
      "Store Shelves:\n",
      "[[binary socks, code code code computer], [code code code keyboard, Slack Pro]]\n",
      "\n",
      "Shopping Cart:\n",
      "- binary socks ($9.99)\n",
      "- Slack Pro ($12.99)\n",
      "Total: 22.98\n"
     ]
    }
   ],
   "source": [
    "import java.util.*;\n",
    "import java.util.Arrays;\n",
    "class Item {\n",
    "    public String name;\n",
    "    public double price;\n",
    "\n",
    "    public Item(String name, double price) {\n",
    "        this.name = name;\n",
    "        this.price = price;\n",
    "    }\n",
    "}\n",
    "public class StoreInventorySystem {\n",
    "    private static final int ROWS = 2;\n",
    "    private static final int COLS = 2;\n",
    "    private static Item[][] shelves = new Item[ROWS][COLS];\n",
    "    private static ArrayList<Item> cart = new ArrayList<>();\n",
    "\n",
    "    StoreInventorySystem(){\n",
    "        setupStore();\n",
    "        displayShelves();\n",
    "        simulatePurchase();\n",
    "        displayCart();\n",
    "    }\n",
    "\n",
    "    private static void setupStore() {\n",
    "        shelves[0][0] = new Item(\"binary socks\", 9.99);\n",
    "        shelves[0][1] = new Item(\"code code code computer\", 599.99);\n",
    "        shelves[1][0] = new Item(\"code code code keyboard\", 79.99);\n",
    "        shelves[1][1] = new Item(\"Slack Pro\", 12.99);\n",
    "    }\n",
    "\n",
    "    private static void displayShelves() {\n",
    "        System.out.println(\"\\nStore Shelves:\");\n",
    "        String[][] display = new String[ROWS][COLS];\n",
    "        for (int i = 0; i < ROWS; i++) {\n",
    "            for (int j = 0; j < COLS; j++) {\n",
    "                display[i][j] = shelves[i][j].name;\n",
    "            }\n",
    "        }\n",
    "        System.out.println(Arrays.deepToString(display));\n",
    "    }\n",
    "\n",
    "    private static void simulatePurchase() {\n",
    "        cart.add(shelves[0][0]); // binary socks\n",
    "        cart.add(shelves[1][1]); // Slack Pro\n",
    "    }\n",
    "\n",
    "    public static void displayCart() {\n",
    "        System.out.println(\"\\nShopping Cart:\");\n",
    "        double total = 0;\n",
    "        for (Item item : cart) {\n",
    "            System.out.println(\"- \" + item.name + \" ($\" + item.price + \")\");\n",
    "            total += item.price;\n",
    "        }\n",
    "        System.out.println(\"Total: \"+ total);\n",
    "    }\n",
    "}\n",
    "\n",
    "StoreInventorySystem store= new StoreInventorySystem();\n",
    "// store.displayCart();\n",
    "\n"
   ]
  }
 ],
 "metadata": {
  "kernelspec": {
   "display_name": "Java",
   "language": "java",
   "name": "java"
  },
  "language_info": {
   "codemirror_mode": "java",
   "file_extension": ".jshell",
   "mimetype": "text/x-java-source",
   "name": "Java",
   "pygments_lexer": "java",
   "version": "17.0.14+0"
  }
 },
 "nbformat": 4,
 "nbformat_minor": 5
}
