{
 "cells": [
  {
   "cell_type": "markdown",
   "id": "673c0ec5",
   "metadata": {},
   "source": [
    "---\n",
    "layout: post\n",
    "title: Future Plans\n",
    "description: Future Plans for FRQ studying and MCQ studying and COllegebOard Studying\n",
    "permalink: /csa/Future\n",
    "menu: nav/CSA_Units/StudyForCB.html\n",
    "---"
   ]
  },
  {
   "cell_type": "markdown",
   "id": "f4a33a18",
   "metadata": {},
   "source": [
    "## Future Plans/ Burndown List Before College Board\n",
    "1.  2 More timed practice of the FRQ portion finishing it within 60 minutes so I could use the remaining 30 minutes to double check(Finish the remaining 2 exams with 2 of each type of FRQ)\n",
    "2. Do another MCQ timed\n",
    "3. Make a static chess game in Java(static) that combines all the elements of college board stuff(for example chess game pieces like knights/bishops/pawns use a common clas/interface of PIECE)"
   ]
  }
 ],
 "metadata": {
  "language_info": {
   "name": "python"
  }
 },
 "nbformat": 4,
 "nbformat_minor": 5
}
