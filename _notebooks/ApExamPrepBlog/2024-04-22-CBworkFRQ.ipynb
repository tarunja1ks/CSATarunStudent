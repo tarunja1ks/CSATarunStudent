{
 "cells": [
  {
   "cell_type": "markdown",
   "id": "5a4909de",
   "metadata": {},
   "source": [
    "---\n",
    "layout: post\n",
    "title: FRQ Work\n",
    "description: FRQ Preperation\n",
    "permalink: /csa/CBFRQ\n",
    "menu: nav/CSA_Units/StudyForCB.html\n",
    "---"
   ]
  },
  {
   "cell_type": "markdown",
   "id": "8ba54091",
   "metadata": {},
   "source": [
    "## 2020 Practice Exam FRQ"
   ]
  },
  {
   "cell_type": "markdown",
   "id": "77d3b3c5",
   "metadata": {
    "vscode": {
     "languageId": "java"
    }
   },
   "source": [
    "## Method and Control Structure FRQ"
   ]
  },
  {
   "cell_type": "code",
   "execution_count": 3,
   "id": "eb39b0da",
   "metadata": {
    "vscode": {
     "languageId": "java"
    }
   },
   "outputs": [
    {
     "data": {
      "text/plain": [
       "8"
      ]
     },
     "execution_count": 3,
     "metadata": {},
     "output_type": "execute_result"
    }
   ],
   "source": [
    "public static int hailstoneLength(int n) {\n",
    "    int length = 1;\n",
    "\n",
    "    while (n != 1) {\n",
    "        if (n % 2 == 0) {\n",
    "            n = n / 2; \n",
    "        } else {\n",
    "            n = 3 * n + 1; \n",
    "        }\n",
    "        length++; \n",
    "    }\n",
    "\n",
    "    return length;\n",
    "}\n",
    "hailstoneLength(3);"
   ]
  },
  {
   "cell_type": "code",
   "execution_count": 6,
   "id": "9943f682",
   "metadata": {
    "vscode": {
     "languageId": "java"
    }
   },
   "outputs": [
    {
     "name": "stdout",
     "output_type": "stream",
     "text": [
      "false\n"
     ]
    }
   ],
   "source": [
    "public static boolean isLongSeq(int n){\n",
    "        int length = hailstoneLength(n);\n",
    "        if (length > n) {\n",
    "            return true;\n",
    "        }\n",
    "        return false;\n",
    "}\n",
    "System.out.println(isLongSeq(8));"
   ]
  },
  {
   "cell_type": "code",
   "execution_count": 7,
   "id": "c338861e",
   "metadata": {
    "vscode": {
     "languageId": "java"
    }
   },
   "outputs": [
    {
     "data": {
      "text/plain": [
       "0.5"
      ]
     },
     "execution_count": 7,
     "metadata": {},
     "output_type": "execute_result"
    }
   ],
   "source": [
    "public static double propLongList(int limit) {\n",
    "    int longSequenceCount = 0;\n",
    "\n",
    "    for (int startValue = 1; startValue <= limit; startValue++) {\n",
    "        int length = hailstoneLength(startValue);\n",
    "        if (length > startValue) {\n",
    "            longSequenceCount++;\n",
    "        }\n",
    "    }\n",
    "\n",
    "    if (limit > 0) {\n",
    "        return (double) longSequenceCount / limit;\n",
    "    } else {\n",
    "        return 0.0; \n",
    "    }\n",
    "}\n",
    "propLongList(10) // so basically this method allows us to return like the percentage/proprotion of the long hailstone lists"
   ]
  },
  {
   "cell_type": "markdown",
   "id": "cf6ed5e8",
   "metadata": {},
   "source": [
    "# Classes FRQ"
   ]
  },
  {
   "cell_type": "code",
   "execution_count": 10,
   "id": "c006e9c7",
   "metadata": {
    "vscode": {
     "languageId": "java"
    }
   },
   "outputs": [
    {
     "name": "stdout",
     "output_type": "stream",
     "text": [
      "Spin result: 2\n",
      "Current run: 1\n",
      "Spin result: 3\n",
      "Current run: 1\n",
      "Spin result: 2\n",
      "Current run: 1\n"
     ]
    }
   ],
   "source": [
    "public class GameSpinner {\n",
    "    private int sectors;\n",
    "    private int lastSpin;\n",
    "    private int currentRun;\n",
    "    private boolean firstSpin;\n",
    "    \n",
    "    public GameSpinner(int sectors) {\n",
    "        this.sectors = sectors;\n",
    "        this.currentRun = 0;\n",
    "        this.firstSpin = true;\n",
    "    }\n",
    "    \n",
    "    public int spin() {\n",
    "        int result = (int)(Math.random() * sectors) + 1;\n",
    "        \n",
    "        if (firstSpin) {\n",
    "            lastSpin = result;\n",
    "            currentRun = 1;\n",
    "            firstSpin = false;\n",
    "        } else if (result == lastSpin) {\n",
    "            currentRun++;\n",
    "        } else {\n",
    "            lastSpin = result;\n",
    "            currentRun = 1;\n",
    "        }\n",
    "        \n",
    "        return result;\n",
    "    }\n",
    "    \n",
    "    public int currentRun() {\n",
    "        return currentRun;\n",
    "    }\n",
    "}\n",
    "GameSpinner g = new GameSpinner(4);\n",
    "System.out.println(\"Spin result: \" + g.spin());\n",
    "System.out.println(\"Current run: \" + g.currentRun());\n",
    "\n",
    "System.out.println(\"Spin result: \" + g.spin());\n",
    "System.out.println(\"Current run: \" + g.currentRun());\n",
    "\n",
    "System.out.println(\"Spin result: \" + g.spin());\n",
    "System.out.println(\"Current run: \" + g.currentRun());"
   ]
  },
  {
   "cell_type": "markdown",
   "id": "5b2b42d9",
   "metadata": {
    "vscode": {
     "languageId": "java"
    }
   },
   "source": [
    "# 3-ArrayLists"
   ]
  },
  {
   "cell_type": "code",
   "execution_count": null,
   "id": "297e2347",
   "metadata": {
    "vscode": {
     "languageId": "java"
    }
   },
   "outputs": [],
   "source": [
    "\n",
    "public void addReview(ProductReview prodReview) {\n",
    "    reviewList.add(prodReview);\n",
    "    String productName = prodReview.getName();\n",
    "    \n",
    "    boolean productExists = false;\n",
    "    for (String product : productList) {\n",
    "        if (product.equals(productName)) {\n",
    "            productExists = true;\n",
    "            break;\n",
    "        }\n",
    "    }\n",
    "    if (!productExists) {\n",
    "        productList.add(productName);\n",
    "    }\n",
    "}"
   ]
  },
  {
   "cell_type": "code",
   "execution_count": null,
   "id": "c5e0d4ec",
   "metadata": {
    "vscode": {
     "languageId": "java"
    }
   },
   "outputs": [],
   "source": [
    "public int getNumGoodReviews(String prodName) {\n",
    "    int count = 0;\n",
    "    for (ProductReview review : reviewList) {\n",
    "        if (review.getName().equals(prodName)) {\n",
    "            String reviewText = review.getReview().toLowerCase();\n",
    "            if (reviewText.contains(\"best\")) {\n",
    "                count++;\n",
    "            }\n",
    "        }\n",
    "    }\n",
    "    \n",
    "    return count;\n",
    "}"
   ]
  },
  {
   "cell_type": "markdown",
   "id": "66bfdf62",
   "metadata": {},
   "source": [
    "# 4-2d arrays"
   ]
  },
  {
   "cell_type": "code",
   "execution_count": null,
   "id": "27c3f201",
   "metadata": {
    "vscode": {
     "languageId": "java"
    }
   },
   "outputs": [],
   "source": [
    "public Theater(int seatsPerRow, int tier1Rows, int tier2Rows) {\n",
    "    theaterSeats = new Seat[tier1Rows + tier2Rows][seatsPerRow];\n",
    "\n",
    "    for (int i = 0; i < tier1Rows; i++) {\n",
    "        for (int j = 0; j < seatsPerRow; j++) {\n",
    "            theaterSeats[i][j] = new Seat(true, 1);\n",
    "        }\n",
    "    }\n",
    "\n",
    "    for (int i = tier1Rows; i < tier1Rows + tier2Rows; i++) {\n",
    "        for (int j = 0; j < seatsPerRow; j++) {\n",
    "            theaterSeats[i][j] = new Seat(true, 2);\n",
    "        }\n",
    "    }\n",
    "}"
   ]
  },
  {
   "cell_type": "code",
   "execution_count": null,
   "id": "ff7315ff",
   "metadata": {
    "vscode": {
     "languageId": "java"
    }
   },
   "outputs": [],
   "source": [
    "public boolean reassignSeat(int fromRow, int fromCol, int toRow, int toCol) {\n",
    "    if (fromRow < 0 || fromRow >= theaterSeats.length || fromCol < 0 || fromCol >= theaterSeats[fromRow].length ||\n",
    "        toRow < 0 || toRow >= theaterSeats.length || toCol < 0 || toCol >= theaterSeats[toRow].length) {\n",
    "        return false;\n",
    "    }\n",
    "\n",
    "    Seat sourceSeat = theaterSeats[fromRow][fromCol];\n",
    "    Seat destinationSeat = theaterSeats[toRow][toCol];\n",
    "\n",
    "    if (sourceSeat.isAvailable()) {\n",
    "        return false;\n",
    "    }\n",
    "\n",
    "    if (!destinationSeat.isAvailable()) {\n",
    "        return false;\n",
    "    }\n",
    "\n",
    "    int sourceTier = sourceSeat.getTier();\n",
    "    int destinationTier = destinationSeat.getTier();\n",
    "\n",
    "    if (sourceTier == 1) {\n",
    "        if (destinationTier < sourceTier) {\n",
    "            return false;\n",
    "        }\n",
    "    } else if (sourceTier == 2) {\n",
    "        if (destinationTier != sourceTier) {\n",
    "            return false;\n",
    "        }\n",
    "    }\n",
    "\n",
    "    sourceSeat.setAvailability(true);\n",
    "    destinationSeat.setAvailability(false);\n",
    "    return true;\n",
    "}"
   ]
  }
 ],
 "metadata": {
  "kernelspec": {
   "display_name": "Java",
   "language": "java",
   "name": "java"
  },
  "language_info": {
   "codemirror_mode": "java",
   "file_extension": ".jshell",
   "mimetype": "text/x-java-source",
   "name": "Java",
   "pygments_lexer": "java",
   "version": "17.0.14+0"
  }
 },
 "nbformat": 4,
 "nbformat_minor": 5
}
