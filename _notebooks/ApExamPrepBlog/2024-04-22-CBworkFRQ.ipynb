{
 "cells": [
  {
   "cell_type": "markdown",
   "id": "5a4909de",
   "metadata": {},
   "source": [
    "---\n",
    "layout: post\n",
    "title: FRQ Work\n",
    "description: FRQ Preperation\n",
    "permalink: /csa/CBFRQ\n",
    "menu: nav/CSA_Units/StudyForCB.html\n",
    "---"
   ]
  },
  {
   "cell_type": "markdown",
   "id": "8ba54091",
   "metadata": {},
   "source": [
    "## 2020 Practice Exam FRQ"
   ]
  },
  {
   "cell_type": "markdown",
   "id": "77d3b3c5",
   "metadata": {
    "vscode": {
     "languageId": "java"
    }
   },
   "source": [
    "## Method and Control Structure FRQ\n",
    "\n",
    "- Write 1–2 methods using loops + conditionals.\n",
    "- Input: Often arrays or ArrayLists.\n",
    "- Goal: Process data, return result (count, sum, modified list, etc).\n",
    "- Tips:\n",
    "  - Read carefully, focus on exactly what’s asked.\n",
    "  - Keep logic simple and clear.\n",
    "  - Use helper methods if needed."
   ]
  },
  {
   "cell_type": "code",
   "execution_count": 3,
   "id": "eb39b0da",
   "metadata": {},
   "outputs": [
    {
     "data": {
      "text/plain": [
       "8"
      ]
     },
     "execution_count": 3,
     "metadata": {},
     "output_type": "execute_result"
    }
   ],
   "source": [
    "public static int hailstoneLength(int n) {\n",
    "    int length = 1;\n",
    "\n",
    "    while (n != 1) {\n",
    "        if (n % 2 == 0) {\n",
    "            n = n / 2; \n",
    "        } else {\n",
    "            n = 3 * n + 1; \n",
    "        }\n",
    "        length++; \n",
    "    }\n",
    "\n",
    "    return length;\n",
    "}\n",
    "hailstoneLength(3);"
   ]
  },
  {
   "cell_type": "code",
   "execution_count": 6,
   "id": "9943f682",
   "metadata": {},
   "outputs": [
    {
     "name": "stdout",
     "output_type": "stream",
     "text": [
      "false\n"
     ]
    }
   ],
   "source": [
    "public static boolean isLongSeq(int n){\n",
    "        int length = hailstoneLength(n);\n",
    "        if (length > n) {\n",
    "            return true;\n",
    "        }\n",
    "        return false;\n",
    "}\n",
    "System.out.println(isLongSeq(8));"
   ]
  },
  {
   "cell_type": "code",
   "execution_count": 7,
   "id": "c338861e",
   "metadata": {},
   "outputs": [
    {
     "data": {
      "text/plain": [
       "0.5"
      ]
     },
     "execution_count": 7,
     "metadata": {},
     "output_type": "execute_result"
    }
   ],
   "source": [
    "public static double propLongList(int limit) {\n",
    "    int longSequenceCount = 0;\n",
    "\n",
    "    for (int startValue = 1; startValue <= limit; startValue++) {\n",
    "        int length = hailstoneLength(startValue);\n",
    "        if (length > startValue) {\n",
    "            longSequenceCount++;\n",
    "        }\n",
    "    }\n",
    "\n",
    "    if (limit > 0) {\n",
    "        return (double) longSequenceCount / limit;\n",
    "    } else {\n",
    "        return 0.0; \n",
    "    }\n",
    "}\n",
    "propLongList(10) // so basically this method allows us to return like the percentage/proprotion of the long hailstone lists"
   ]
  },
  {
   "cell_type": "markdown",
   "id": "cf6ed5e8",
   "metadata": {},
   "source": [
    "# Classes FRQ\n",
    "\n",
    "- Focus: Writing a class with fields, constructors, and methods.\n",
    "- You'll likely:\n",
    "  - Declare private instance variables\n",
    "  - Write a constructor to initialize them\n",
    "  - Implement accessor (get) and mutator (set) methods\n",
    "  - Write custom methods that use the instance variables\n",
    "- Tips:\n",
    "  - Write method stubs first, then fill in logic\n",
    "  - Keep variable and method names clear and descriptive\n",
    "  - Check that each method does exactly what the prompt asks\n"
   ]
  },
  {
   "cell_type": "code",
   "execution_count": 10,
   "id": "c006e9c7",
   "metadata": {},
   "outputs": [
    {
     "name": "stdout",
     "output_type": "stream",
     "text": [
      "Spin result: 2\n",
      "Current run: 1\n",
      "Spin result: 3\n",
      "Current run: 1\n",
      "Spin result: 2\n",
      "Current run: 1\n"
     ]
    }
   ],
   "source": [
    "public class GameSpinner {\n",
    "    private int sectors;\n",
    "    private int lastSpin;\n",
    "    private int currentRun;\n",
    "    private boolean firstSpin;\n",
    "    \n",
    "    public GameSpinner(int sectors) {\n",
    "        this.sectors = sectors;\n",
    "        this.currentRun = 0;\n",
    "        this.firstSpin = true;\n",
    "    }\n",
    "    \n",
    "    public int spin() {\n",
    "        int result = (int)(Math.random() * sectors) + 1;\n",
    "        \n",
    "        if (firstSpin) {\n",
    "            lastSpin = result;\n",
    "            currentRun = 1;\n",
    "            firstSpin = false;\n",
    "        } else if (result == lastSpin) {\n",
    "            currentRun++;\n",
    "        } else {\n",
    "            lastSpin = result;\n",
    "            currentRun = 1;\n",
    "        }\n",
    "        \n",
    "        return result;\n",
    "    }\n",
    "    \n",
    "    public int currentRun() {\n",
    "        return currentRun;\n",
    "    }\n",
    "}\n",
    "GameSpinner g = new GameSpinner(4);\n",
    "System.out.println(\"Spin result: \" + g.spin());\n",
    "System.out.println(\"Current run: \" + g.currentRun());\n",
    "\n",
    "System.out.println(\"Spin result: \" + g.spin());\n",
    "System.out.println(\"Current run: \" + g.currentRun());\n",
    "\n",
    "System.out.println(\"Spin result: \" + g.spin());\n",
    "System.out.println(\"Current run: \" + g.currentRun());"
   ]
  },
  {
   "cell_type": "markdown",
   "id": "5b2b42d9",
   "metadata": {
    "vscode": {
     "languageId": "java"
    }
   },
   "source": [
    "# 3-ArrayLists\n",
    "- Focus: Traversing and modifying `ArrayList` objects.\n",
    "- You’ll usually:\n",
    "  - Loop through an `ArrayList` using `for` or `while`\n",
    "  - Add, remove, or update elements\n",
    "  - Return counts, modified lists, or boolean results\n",
    "\n",
    "- Key methods to know:\n",
    "  - `add(index, value)`\n",
    "  - `get(index)`\n",
    "  - `set(index, value)`\n",
    "  - `remove(index)`\n",
    "  - `size()`"
   ]
  },
  {
   "cell_type": "code",
   "execution_count": null,
   "id": "297e2347",
   "metadata": {},
   "outputs": [],
   "source": [
    "\n",
    "public void addReview(ProductReview prodReview) {\n",
    "    reviewList.add(prodReview);\n",
    "    String productName = prodReview.getName();\n",
    "    \n",
    "    boolean productExists = false;\n",
    "    for (String product : productList) {\n",
    "        if (product.equals(productName)) {\n",
    "            productExists = true;\n",
    "            break;\n",
    "        }\n",
    "    }\n",
    "    if (!productExists) {\n",
    "        productList.add(productName);\n",
    "    }\n",
    "}"
   ]
  },
  {
   "cell_type": "code",
   "execution_count": null,
   "id": "c5e0d4ec",
   "metadata": {},
   "outputs": [],
   "source": [
    "public int getNumGoodReviews(String prodName) {\n",
    "    int count = 0;\n",
    "    for (ProductReview review : reviewList) {\n",
    "        if (review.getName().equals(prodName)) {\n",
    "            String reviewText = review.getReview().toLowerCase();\n",
    "            if (reviewText.contains(\"best\")) {\n",
    "                count++;\n",
    "            }\n",
    "        }\n",
    "    }\n",
    "    \n",
    "    return count;\n",
    "}"
   ]
  },
  {
   "cell_type": "markdown",
   "id": "66bfdf62",
   "metadata": {},
   "source": [
    "### 2D Array FRQ – Quick Notes\n",
    "\n",
    "- Focus: Accessing and modifying 2D arrays (`int[][]`, `String[][]`, etc).\n",
    "- You’ll usually:\n",
    "  - Traverse using nested `for` loops\n",
    "  - Count, sum, or find values\n",
    "  - Modify elements based on conditions\n",
    "\n",
    "BE CAREFUL OF END BOUNDS"
   ]
  },
  {
   "cell_type": "code",
   "execution_count": null,
   "id": "27c3f201",
   "metadata": {},
   "outputs": [],
   "source": [
    "public Theater(int seatsPerRow, int tier1Rows, int tier2Rows) {\n",
    "    theaterSeats = new Seat[tier1Rows + tier2Rows][seatsPerRow];\n",
    "\n",
    "    for (int i = 0; i < tier1Rows; i++) {\n",
    "        for (int j = 0; j < seatsPerRow; j++) {\n",
    "            theaterSeats[i][j] = new Seat(true, 1);\n",
    "        }\n",
    "    }\n",
    "\n",
    "    for (int i = tier1Rows; i < tier1Rows + tier2Rows; i++) {\n",
    "        for (int j = 0; j < seatsPerRow; j++) {\n",
    "            theaterSeats[i][j] = new Seat(true, 2);\n",
    "        }\n",
    "    }\n",
    "}"
   ]
  },
  {
   "cell_type": "code",
   "execution_count": null,
   "id": "ff7315ff",
   "metadata": {},
   "outputs": [],
   "source": [
    "public boolean reassignSeat(int fromRow, int fromCol, int toRow, int toCol) {\n",
    "    if (fromRow < 0 || fromRow >= theaterSeats.length || fromCol < 0 || fromCol >= theaterSeats[fromRow].length ||\n",
    "        toRow < 0 || toRow >= theaterSeats.length || toCol < 0 || toCol >= theaterSeats[toRow].length) {\n",
    "        return false;\n",
    "    }\n",
    "\n",
    "    Seat sourceSeat = theaterSeats[fromRow][fromCol];\n",
    "    Seat destinationSeat = theaterSeats[toRow][toCol];\n",
    "\n",
    "    if (sourceSeat.isAvailable()) {\n",
    "        return false;\n",
    "    }\n",
    "\n",
    "    if (!destinationSeat.isAvailable()) {\n",
    "        return false;\n",
    "    }\n",
    "\n",
    "    int sourceTier = sourceSeat.getTier();\n",
    "    int destinationTier = destinationSeat.getTier();\n",
    "\n",
    "    if (sourceTier == 1) {\n",
    "        if (destinationTier < sourceTier) {\n",
    "            return false;\n",
    "        }\n",
    "    } else if (sourceTier == 2) {\n",
    "        if (destinationTier != sourceTier) {\n",
    "            return false;\n",
    "        }\n",
    "    }\n",
    "\n",
    "    sourceSeat.setAvailability(true);\n",
    "    destinationSeat.setAvailability(false);\n",
    "    return true;\n",
    "}"
   ]
  }
 ],
 "metadata": {
  "kernelspec": {
   "display_name": "Java",
   "language": "java",
   "name": "java"
  },
  "language_info": {
   "codemirror_mode": "java",
   "file_extension": ".jshell",
   "mimetype": "text/x-java-source",
   "name": "java",
   "pygments_lexer": "java",
   "version": "17.0.14+0"
  }
 },
 "nbformat": 4,
 "nbformat_minor": 5
}
