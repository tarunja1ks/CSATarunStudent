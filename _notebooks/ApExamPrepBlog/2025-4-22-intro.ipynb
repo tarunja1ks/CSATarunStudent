{
 "cells": [
  {
   "cell_type": "markdown",
   "id": "89011afd",
   "metadata": {},
   "source": [
    "---\n",
    "title: Ap Exam Prep\n",
    "layout: post\n",
    "description: This shows the preperation I have been working on for the AP Exam(other than the pbl backend tasks).\n",
    "author: Tarun Jaikumar\n",
    "menu: nav/CSA_Units/StudyForCB.html\n",
    "---"
   ]
  },
  {
   "cell_type": "markdown",
   "id": "73abc07a",
   "metadata": {},
   "source": [
    "Table of Contents/Live Review Roadmap\n",
    "\n",
    "1. Notes/old hws\n",
    "\n",
    "2. MCQ Work\n",
    "\n",
    "3. FRQ work\n",
    "\n"
   ]
  },
  {
   "cell_type": "markdown",
   "id": "a4b67526",
   "metadata": {},
   "source": []
  }
 ],
 "metadata": {
  "language_info": {
   "name": "python"
  }
 },
 "nbformat": 4,
 "nbformat_minor": 5
}
