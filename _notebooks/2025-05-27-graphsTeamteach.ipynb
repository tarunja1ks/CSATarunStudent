{
 "cells": [
  {
   "cell_type": "markdown",
   "id": "55fb4182",
   "metadata": {},
   "source": [
    "---\n",
    "layout: post\n",
    "title: Graphs Homework\n",
    "permalink: /graphHW\n",
    "---"
   ]
  },
  {
   "cell_type": "markdown",
   "id": "03058bc4",
   "metadata": {},
   "source": [
    "# Popcorn Hack #1\n",
    "The last representation is most effecient since it's the most compact storage wise, since you only store the edges/connections not every single non-connection too. "
   ]
  },
  {
   "cell_type": "markdown",
   "id": "73feca80",
   "metadata": {},
   "source": [
    "### Homework Part 1\n",
    "\n",
    "## How might I represent a weighted graph?\n",
    "\n",
    "### Using an Adjacency List?\n",
    "\n",
    "A weighted graph can be represented using an adjacency list where each vertex maps to a list of neighboring vertices and their edge weights. For example, `A: [(B, 5), (C, 2)]` shows edges with weights from A to B and C.\n",
    "\n",
    "### Using a Vertex and Edge Set?\n",
    "\n",
    "You can use a vertex set and an edge set, where each edge is a tuple like `(A, B, 5)` indicating a directed edge from A to B with a weight of 5. This approach clearly separates node definitions and weighted connections.\n",
    "\n",
    "## How might I represent a directed graph?\n",
    "\n",
    "### Using an Adjacency List?\n",
    "\n",
    "In a directed graph's adjacency list, each vertex points only to its outbound neighbors. For example, `A: [B, C]` means there are edges from A to B and A to C.\n",
    "\n",
    "### Using a Vertex and Edge Set?\n",
    "\n",
    "A directed graph can also be represented using a set of vertices and a set of ordered edge pairs like `(A, B)`. The order of the pair reflects the direction of the edge—from A to B.\n",
    "\n",
    "3. Represent the following graph using an adjacency matrix\n",
    "Image broken on the website"
   ]
  },
  {
   "cell_type": "markdown",
   "id": "714a65e1",
   "metadata": {},
   "source": [
    "## Homework Part 2\n",
    "addNode\n",
    "Adds a node to the graph\n",
    "No connections be default\n",
    "removeEdge\n",
    "Removes a specified edge from the graph\n",
    "Does NOT remove the nodes"
   ]
  },
  {
   "cell_type": "code",
   "execution_count": null,
   "id": "6675d8f4",
   "metadata": {
    "vscode": {
     "languageId": "java"
    }
   },
   "outputs": [],
   "source": [
    " public void addNode() {\n",
    "        nodes++;\n",
    "        LinkedList<Integer>[] newAdjList = new LinkedList[nodes];\n",
    "        for (int i = 0; i < nodes - 1; i++) {\n",
    "            newAdjList[i] = adjacencyList[i];\n",
    "        }\n",
    "        newAdjList[nodes - 1] = new LinkedList<>();\n",
    "        adjacencyList = newAdjList;\n",
    "    }\n",
    "\n",
    "    public void removeEdge(int source, int destination) {\n",
    "        adjacencyList[source].remove(Integer.valueOf(destination));\n",
    "        adjacencyList[destination].remove(Integer.valueOf(source));\n",
    "    }"
   ]
  },
  {
   "cell_type": "markdown",
   "id": "14a28fed",
   "metadata": {
    "vscode": {
     "languageId": "plaintext"
    }
   },
   "source": [
    "# Homework - Part 3\n",
    "What happens if the graph has a loop in it? Please account for this in the two algorithms above.\n",
    "\n",
    "If the graph has loops (cycles), both BFS and DFS could get stuck in infinite recursion or repeated processing, because they may visit the same node multiple times.\n",
    "\n",
    "\n",
    "BONUS:\n",
    "Traveling Salesman but cursed\n",
    "Your code should take in a graph and output the fastest path to travel to every single graph given a starting and ending node\n",
    "Assume each edge has the same cost\n",
    "Efficiency doesn’t matter\n",
    "\n",
    "public void cursedTSP(int start, int end) {\n",
    "    List<Integer> nodesList = new ArrayList<>();\n",
    "    for (int i = 0; i < nodes; i++) {\n",
    "        if (i != start && i != end) {\n",
    "            nodesList.add(i);\n",
    "        }\n",
    "    }\n",
    "\n",
    "    List<List<Integer>> allPermutations = new ArrayList<>();\n",
    "    permute(nodesList, 0, allPermutations);\n",
    "\n",
    "    List<Integer> shortestPath = null;\n",
    "\n",
    "    for (List<Integer> path : allPermutations) {\n",
    "        List<Integer> fullPath = new ArrayList<>();\n",
    "        fullPath.add(start);\n",
    "        fullPath.addAll(path);\n",
    "        fullPath.add(end);\n",
    "\n",
    "        if (isValidPath(fullPath)) {\n",
    "            if (shortestPath == null || fullPath.size() < shortestPath.size()) {\n",
    "                shortestPath = new ArrayList<>(fullPath);\n",
    "            }\n",
    "        }\n",
    "    }\n",
    "\n",
    "    if (shortestPath != null) {\n",
    "        System.out.println(\"Cursed TSP Path: \" + shortestPath);\n",
    "        System.out.println(\"Steps: \" + (shortestPath.size() - 1));\n",
    "    } else {\n",
    "        System.out.println(\"No valid path found that visits all nodes.\");\n",
    "    }\n",
    "}\n",
    "\n",
    "private void permute(List<Integer> arr, int k, List<List<Integer>> result) {\n",
    "    if (k == arr.size()) {\n",
    "        result.add(new ArrayList<>(arr));\n",
    "    } else {\n",
    "        for (int i = k; i < arr.size(); i++) {\n",
    "            Collections.swap(arr, i, k);\n",
    "            permute(arr, k + 1, result);\n",
    "            Collections.swap(arr, k, i);\n",
    "        }\n",
    "    }\n",
    "}\n",
    "\n",
    "private boolean isValidPath(List<Integer> path) {\n",
    "    for (int i = 0; i < path.size() - 1; i++) {\n",
    "        if (!adjacencyList[path.get(i)].contains(path.get(i + 1))) {\n",
    "            return false;\n",
    "        }\n",
    "    }\n",
    "    return true;\n",
    "}\n"
   ]
  }
 ],
 "metadata": {
  "language_info": {
   "name": "python"
  }
 },
 "nbformat": 4,
 "nbformat_minor": 5
}
