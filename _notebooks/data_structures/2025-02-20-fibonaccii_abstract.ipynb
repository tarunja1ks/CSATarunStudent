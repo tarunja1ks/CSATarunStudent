{
 "cells": [
  {
   "cell_type": "raw",
   "metadata": {},
   "source": [
    "---\n",
    "toc: false \n",
    "layout: post\n",
    "title: Abstract Fibonaccii Hack\n",
    "description: A Fibonacci algorithm that runs using an abstract parent class.\n",
    "courses: { csa: {week: 25} }\n",
    "type: ccc\n",
    "image: /images/data_structures/fibonacci.png\n",
    "---"
   ]
  },
  {
   "cell_type": "markdown",
   "metadata": {},
   "source": [
    "![abstract]({{site.baseurl}}/images/data_structures/fibonacci.png)\n",
    "\n",
    "## Introduction\n",
    "\n",
    "This notebook uses Class definitions, ArrayLists, and Hash Maps.   My hypothosis is these data structures are probably the most widely used in the Java language.\n",
    "\n",
    "### Popcorn Hacks\n",
    "\n",
    "- Provide some reasons why you agree with my hypothesis?\n",
    "\n",
    "I agree with your hypothosis since ArrayLIsts/Hashmaps are important for storing large amounts of information, which is very common in Computer Science such as with an Arraylist of Names, or Hashmaps of ids mapping to those names. Class definitions are also important since it is needed for custom storage of custom attributes/elements and good for organization of different elements such as Person which might have age date of birth and more. \n",
    "\n",
    "- Provide some data structures that you think might rival my hypothesis?\n",
    "\n",
    "\n",
    "Some data structures that might rival your hypothesis includes Strings as it is included in many of the class definitions. \n",
    "\n",
    "- Categorize data structure mentioned, tested by college board tested, widely used, fast.\n",
    "\n",
    "Array (Static, Fast)\n",
    "ArrayList (Dynamic Array, Fast, College Board tested)\n",
    "Linked List (Both Singly and Doubly Linked Lists)\n",
    "Stack (Uses arrays or linked lists, LIFO structure)\n",
    "Queue (Uses arrays or linked lists, FIFO structure)\n",
    "Priority Queue (Heap-based implementation) (Efficient for scheduling tasks)\n",
    "HashMap (Hashtable, HashSet, Dictionary)\n"
   ]
  },
  {
   "cell_type": "code",
   "execution_count": 11,
   "metadata": {
    "vscode": {
     "languageId": "java"
    }
   },
   "outputs": [],
   "source": [
    "/*\n",
    " * Creator: Nighthawk Coding Society\n",
    " * Mini Lab Name: Fibonacci sequence, featuring a Stream Algorithm\n",
    " * \n",
    "*/\n",
    "\n",
    "import java.util.ArrayList;  \n",
    "import java.util.HashMap;\n",
    "import java.util.stream.Stream;\n",
    "\n",
    "/* Objective will require changing to abstract class with one or more abstract methods below */\n",
    "abstract class Fibo {\n",
    "    String name;  // name or title of method\n",
    "    int size;  // nth sequence\n",
    "    int hashID;  // counter for hashIDs in hash map\n",
    "    ArrayList<Long> list;   // captures current Fibonacci sequence\n",
    "    HashMap<Integer, Object> hash;  // captures each sequence leading to final result\n",
    "\n",
    "    /*\n",
    "     Zero parameter constructor uses Telescoping technique to allow setting of the required value nth\n",
    "     @param: none\n",
    "     */\n",
    "    public Fibo() {\n",
    "        this(8); // telescope to avoid code duplication, using default as 20\n",
    "    }\n",
    "\n",
    "    /*\n",
    "     Construct the nth fibonacci number\n",
    "     @param: nth number, the value is constrained to 92 because of overflow in a long\n",
    "     */\n",
    "    public Fibo(int nth) {\n",
    "        this.size = nth;\n",
    "        this.list = new ArrayList<>();\n",
    "        this.hashID = 0;\n",
    "        this.hash = new HashMap<>();\n",
    "        //calculate fibonacci and time mvc\n",
    "        this.calc();\n",
    "    }\n",
    "\n",
    "    /*\n",
    "     This Method should be \"abstract\"\n",
    "     Leave method as protected, as it is only authorized to extender of the class\n",
    "     Make new class that extends and defines calc()\n",
    "     Inside references within this class would change from this to super\n",
    "     Repeat process using for, while, recursion\n",
    "     */\n",
    "    protected abstract void calc();\n",
    "\n",
    "    /*\n",
    "     Number is added to fibonacci sequence, current state of \"list\" is added to hash for hashID \"num\"\n",
    "     */\n",
    "    public void setData(long num) {\n",
    "        list.add(num);\n",
    "        hash.put(this.hashID++, list.clone());\n",
    "    }\n",
    "\n",
    "    /*\n",
    "     Custom Getter to return last element in fibonacci sequence\n",
    "     */\n",
    "    public long getNth() {\n",
    "        return list.get(this.size - 1);\n",
    "    }\n",
    "\n",
    "    /*\n",
    "     Custom Getter to return last fibonacci sequence in HashMap\n",
    "     */\n",
    "    public Object getNthSeq(int i) {\n",
    "        return hash.get(i);\n",
    "    }\n",
    "\n",
    "    /*\n",
    "     Console/Terminal supported print method\n",
    "     */\n",
    "    public void print() {\n",
    "        System.out.println(\"Calculation method = \" + this.name);\n",
    "        System.out.println(\"fibonacci Number \" + this.size + \" = \" + this.getNth());\n",
    "        System.out.println(\"fibonacci List = \" + this.list);\n",
    "        System.out.println(\"fibonacci Hashmap = \" + this.hash);\n",
    "        for (int i=0 ; i<this.size; i++ ) {\n",
    "            System.out.println(\"fibonacci Sequence \" + (i+1) + \" = \" + this.getNthSeq(i));\n",
    "        }\n",
    "    }\n",
    "}"
   ]
  },
  {
   "cell_type": "code",
   "execution_count": 12,
   "metadata": {
    "vscode": {
     "languageId": "java"
    }
   },
   "outputs": [
    {
     "name": "stdout",
     "output_type": "stream",
     "text": [
      "Calculation method = FiboFor extends Fibo\n",
      "fibonacci Number 2 = 1\n",
      "fibonacci List = [0, 1]\n",
      "fibonacci Hashmap = {0=[0], 1=[0, 1]}\n",
      "fibonacci Sequence 1 = [0]\n",
      "fibonacci Sequence 2 = [0, 1]\n",
      "\n",
      "Calculation method = FiboFor extends Fibo\n",
      "fibonacci Number 5 = 3\n",
      "fibonacci List = [0, 1, 1, 2, 3]\n",
      "fibonacci Hashmap = {0=[0], 1=[0, 1], 2=[0, 1, 1], 3=[0, 1, 1, 2], 4=[0, 1, 1, 2, 3]}\n",
      "fibonacci Sequence 1 = [0]\n",
      "fibonacci Sequence 2 = [0, 1]\n",
      "fibonacci Sequence 3 = [0, 1, 1]\n",
      "fibonacci Sequence 4 = [0, 1, 1, 2]\n",
      "fibonacci Sequence 5 = [0, 1, 1, 2, 3]\n",
      "\n",
      "Calculation method = FiboFor extends Fibo\n",
      "fibonacci Number 8 = 13\n",
      "fibonacci List = [0, 1, 1, 2, 3, 5, 8, 13]\n",
      "fibonacci Hashmap = {0=[0], 1=[0, 1], 2=[0, 1, 1], 3=[0, 1, 1, 2], 4=[0, 1, 1, 2, 3], 5=[0, 1, 1, 2, 3, 5], 6=[0, 1, 1, 2, 3, 5, 8], 7=[0, 1, 1, 2, 3, 5, 8, 13]}\n",
      "fibonacci Sequence 1 = [0]\n",
      "fibonacci Sequence 2 = [0, 1]\n",
      "fibonacci Sequence 3 = [0, 1, 1]\n",
      "fibonacci Sequence 4 = [0, 1, 1, 2]\n",
      "fibonacci Sequence 5 = [0, 1, 1, 2, 3]\n",
      "fibonacci Sequence 6 = [0, 1, 1, 2, 3, 5]\n",
      "fibonacci Sequence 7 = [0, 1, 1, 2, 3, 5, 8]\n",
      "fibonacci Sequence 8 = [0, 1, 1, 2, 3, 5, 8, 13]\n",
      "\n"
     ]
    }
   ],
   "source": [
    "\n",
    "public class FiboFor extends Fibo {\n",
    "\n",
    "    public FiboFor() {\n",
    "        super();\n",
    "    }\n",
    "\n",
    "    public FiboFor(int nth) {\n",
    "        super(nth);\n",
    "    }\n",
    "\n",
    "    @Override\n",
    "    protected void calc() {\n",
    "        super.name = \"FiboFor extends Fibo\";\n",
    "        long limit = this.size;\n",
    "        // for loops are likely the most common iteration structure, all the looping facts are in one line\n",
    "        for (long[] f = new long[]{0, 1}; limit-- > 0; f = new long[]{f[1], f[0] + f[1]})\n",
    "            this.setData(f[0]);\n",
    "    }\n",
    "\n",
    "    /*\n",
    "    Tester class method.\n",
    "     */\n",
    "    static public void main(int... numbers) {\n",
    "        for (int nth : numbers) {\n",
    "            Fibo fib = new FiboFor(nth);\n",
    "            fib.print();\n",
    "            System.out.println();\n",
    "        }\n",
    "    }\n",
    "}\n",
    "\n",
    "FiboFor.main(2, 5, 8);\n"
   ]
  },
  {
   "cell_type": "code",
   "execution_count": 13,
   "metadata": {
    "vscode": {
     "languageId": "java"
    }
   },
   "outputs": [
    {
     "name": "stdout",
     "output_type": "stream",
     "text": [
      "Calculation method = FiboFor extends Fibo\n",
      "fibonacci Number 2 = 1\n",
      "fibonacci List = [0, 1]\n",
      "fibonacci Hashmap = {0=[0], 1=[0, 1]}\n",
      "fibonacci Sequence 1 = [0]\n",
      "fibonacci Sequence 2 = [0, 1]\n",
      "\n",
      "Calculation method = FiboFor extends Fibo\n",
      "fibonacci Number 5 = 3\n",
      "fibonacci List = [0, 1, 1, 2, 3]\n",
      "fibonacci Hashmap = {0=[0], 1=[0, 1], 2=[0, 1, 1], 3=[0, 1, 1, 2], 4=[0, 1, 1, 2, 3]}\n",
      "fibonacci Sequence 1 = [0]\n",
      "fibonacci Sequence 2 = [0, 1]\n",
      "fibonacci Sequence 3 = [0, 1, 1]\n",
      "fibonacci Sequence 4 = [0, 1, 1, 2]\n",
      "fibonacci Sequence 5 = [0, 1, 1, 2, 3]\n",
      "\n",
      "Calculation method = FiboFor extends Fibo\n",
      "fibonacci Number 8 = 13\n",
      "fibonacci List = [0, 1, 1, 2, 3, 5, 8, 13]\n",
      "fibonacci Hashmap = {0=[0], 1=[0, 1], 2=[0, 1, 1], 3=[0, 1, 1, 2], 4=[0, 1, 1, 2, 3], 5=[0, 1, 1, 2, 3, 5], 6=[0, 1, 1, 2, 3, 5, 8], 7=[0, 1, 1, 2, 3, 5, 8, 13]}\n",
      "fibonacci Sequence 1 = [0]\n",
      "fibonacci Sequence 2 = [0, 1]\n",
      "fibonacci Sequence 3 = [0, 1, 1]\n",
      "fibonacci Sequence 4 = [0, 1, 1, 2]\n",
      "fibonacci Sequence 5 = [0, 1, 1, 2, 3]\n",
      "fibonacci Sequence 6 = [0, 1, 1, 2, 3, 5]\n",
      "fibonacci Sequence 7 = [0, 1, 1, 2, 3, 5, 8]\n",
      "fibonacci Sequence 8 = [0, 1, 1, 2, 3, 5, 8, 13]\n",
      "\n"
     ]
    }
   ],
   "source": [
    "public class FiboStream extends Fibo {\n",
    "\n",
    "    public FiboStream() {\n",
    "        super();\n",
    "    }\n",
    "\n",
    "    public FiboStream(int nth) {\n",
    "        super(nth);\n",
    "    }\n",
    "\n",
    "    @Override\n",
    "    protected void calc() {\n",
    "        super.name = \"FiboStream extends Extends\";\n",
    "\n",
    "        // Initial element of stream: new long[]{0, 1}\n",
    "        // Lambda expression calculate the next fibo based on the current: f -> new long[]{f[1], f[0] + f[1]}\n",
    "        Stream.iterate(new long[]{0, 1}, f -> new long[]{f[1], f[0] + f[1]})\n",
    "            .limit(super.size) // stream limit\n",
    "            .forEach(f -> super.setData(f[0]) );  // set data in super class\n",
    "    }\n",
    "\n",
    "    /*\n",
    "    Tester class method.\n",
    "     */\n",
    "    static public void main(int... numbers) {\n",
    "        for (int nth : numbers) {\n",
    "            Fibo fib = new FiboFor(nth);\n",
    "            fib.print();\n",
    "            System.out.println();\n",
    "        }\n",
    "    }\n",
    "}\n",
    "\n",
    "FiboStream.main(2, 5, 8);"
   ]
  },
  {
   "cell_type": "markdown",
   "metadata": {},
   "source": [
    "## Popcorn Hacks\n",
    "Objectives of these hacks are ...\n",
    "\n",
    "1. Understand how to fullfill abstract class requirements using two additional algoritms.\n",
    "2. Use inheritance style of programming to test speed of each algorithm.  To test the speed, a.) be aware that the first run is always the slowest b.) to time something, my recommendation is 12 runs on the timed element, through out highest and lowest time in calculations.\n",
    "3. Be sure to make a tester and reporting methods.\n",
    "\n",
    ".85 basis for text based comparison inside of Jupyter Notebook lesson\n",
    "\n",
    "## Hacks\n",
    "Assign in each Team to build a Thymeleaf UI for portfolio_2025 using this example https://thymeleaf.nighthawkcodingsociety.com/mvc/fibonacci as basis.  Encorporate into Algorithms menu.\n",
    "\n",
    "Since there are three teams, one team can do Fibo, others Pali and Factorial.  Assign this to people that are struggling for contribution and presentation to checkpoints.\n",
    "\n",
    ".90 basis for FE presentation in Thymmeleaf to BE call in Spring"
   ]
  },
  {
   "cell_type": "code",
   "execution_count": 14,
   "metadata": {
    "vscode": {
     "languageId": "java"
    }
   },
   "outputs": [],
   "source": [
    "class FiboFor extends Fibo {\n",
    "    public FiboFor(int nth) {\n",
    "        super(nth);\n",
    "        this.name = \"For Loop\";\n",
    "    }\n",
    "\n",
    "    @Override\n",
    "    protected void calc() {\n",
    "        long a = 0, b = 1;\n",
    "        for (int i = 0; i < this.size; i++) {\n",
    "            setData(a);\n",
    "            long temp = a + b;\n",
    "            a = b;\n",
    "            b = temp;\n",
    "        }\n",
    "    }\n",
    "}\n"
   ]
  },
  {
   "cell_type": "code",
   "execution_count": 15,
   "metadata": {
    "vscode": {
     "languageId": "java"
    }
   },
   "outputs": [],
   "source": [
    "class FiboWhile extends Fibo {\n",
    "    public FiboWhile(int nth) {\n",
    "        super(nth);\n",
    "        this.name = \"While Loop\";\n",
    "    }\n",
    "\n",
    "    @Override\n",
    "    protected void calc() {\n",
    "        long a = 0, b = 1;\n",
    "        int i = 0;\n",
    "        while (i < this.size) {\n",
    "            setData(a);\n",
    "            long temp = a + b;\n",
    "            a = b;\n",
    "            b = temp;\n",
    "            i++;\n",
    "        }\n",
    "    }\n",
    "}\n"
   ]
  },
  {
   "cell_type": "code",
   "execution_count": 16,
   "metadata": {
    "vscode": {
     "languageId": "java"
    }
   },
   "outputs": [],
   "source": [
    "class FiboRecursive extends Fibo {\n",
    "    public FiboRecursive(int nth) {\n",
    "        super(nth);\n",
    "        this.name = \"Recursion\";\n",
    "    }\n",
    "\n",
    "    @Override\n",
    "    protected void calc() {\n",
    "        for (int i = 0; i < this.size; i++) {\n",
    "            setData(fibonacci(i));\n",
    "        }\n",
    "    }\n",
    "\n",
    "    private long fibonacci(int n) {\n",
    "        if (n <= 0) return 0;\n",
    "        if (n == 1) return 1;\n",
    "        return fibonacci(n - 1) + fibonacci(n - 2);\n",
    "    }\n",
    "}\n"
   ]
  },
  {
   "cell_type": "code",
   "execution_count": 28,
   "metadata": {
    "vscode": {
     "languageId": "java"
    }
   },
   "outputs": [
    {
     "name": "stdout",
     "output_type": "stream",
     "text": [
      "Calculation method = For Loop\n",
      "fibonacci Number 3 = 1\n",
      "fibonacci List = [0, 1, 1, 0, 1, 1]\n",
      "fibonacci Hashmap = {0=[0], 1=[0, 1], 2=[0, 1, 1], 3=[0, 1, 1, 0], 4=[0, 1, 1, 0, 1], 5=[0, 1, 1, 0, 1, 1]}\n",
      "fibonacci Sequence 1 = [0]\n",
      "fibonacci Sequence 2 = [0, 1]\n",
      "fibonacci Sequence 3 = [0, 1, 1]\n",
      "Execution Time: 1333 ns\n",
      "\n",
      "Calculation method = While Loop\n",
      "fibonacci Number 3 = 1\n",
      "fibonacci List = [0, 1, 1, 0, 1, 1]\n",
      "fibonacci Hashmap = {0=[0], 1=[0, 1], 2=[0, 1, 1], 3=[0, 1, 1, 0], 4=[0, 1, 1, 0, 1], 5=[0, 1, 1, 0, 1, 1]}\n",
      "fibonacci Sequence 1 = [0]\n",
      "fibonacci Sequence 2 = [0, 1]\n",
      "fibonacci Sequence 3 = [0, 1, 1]\n",
      "Execution Time: 1167 ns\n",
      "\n",
      "Calculation method = Recursion\n",
      "fibonacci Number 3 = 1\n",
      "fibonacci List = [0, 1, 1, 0, 1, 1]\n",
      "fibonacci Hashmap = {0=[0], 1=[0, 1], 2=[0, 1, 1], 3=[0, 1, 1, 0], 4=[0, 1, 1, 0, 1], 5=[0, 1, 1, 0, 1, 1]}\n",
      "fibonacci Sequence 1 = [0]\n",
      "fibonacci Sequence 2 = [0, 1]\n",
      "fibonacci Sequence 3 = [0, 1, 1]\n",
      "Execution Time: 1208 ns\n",
      "\n"
     ]
    }
   ],
   "source": [
    "public static void runFibonacci(Fibo fibo) {\n",
    "    long startTime = System.nanoTime();\n",
    "    fibo.calc(); // Run the Fibonacci calculation\n",
    "    long endTime = System.nanoTime();\n",
    "    long duration = (endTime - startTime); // Convert nanoseconds to milliseconds\n",
    "    \n",
    "    fibo.print();\n",
    "    System.out.println(\"Execution Time: \" + duration + \" ns\\n\");\n",
    "}\n",
    "\n",
    "runFibonacci(new FiboFor(3));      // For loop approach\n",
    "runFibonacci(new FiboWhile(3));    // While loop approach\n",
    "runFibonacci(new FiboRecursive(3));// Recursive approach\n",
    "\n",
    "\n"
   ]
  }
 ],
 "metadata": {
  "kernelspec": {
   "display_name": "Java",
   "language": "java",
   "name": "java"
  },
  "language_info": {
   "codemirror_mode": "java",
   "file_extension": ".jshell",
   "mimetype": "text/x-java-source",
   "name": "Java",
   "pygments_lexer": "java",
   "version": "23.0.1+11-39"
  },
  "orig_nbformat": 4,
  "vscode": {
   "interpreter": {
    "hash": "aee8b7b246df8f9039afb4144a1f6fd8d2ca17a180786b69acc140d282b71a49"
   }
  }
 },
 "nbformat": 4,
 "nbformat_minor": 2
}
