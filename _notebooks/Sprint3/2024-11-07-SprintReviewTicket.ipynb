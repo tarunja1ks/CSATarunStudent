{
 "cells": [
  {
   "cell_type": "markdown",
   "metadata": {},
   "source": [
    "---\n",
    "layout: post\n",
    "title:  Sprint 3 Objectives\n",
    "description: These are my memories of the NATM stuff. \n",
    "comments: true\n",
    "---"
   ]
  },
  {
   "cell_type": "markdown",
   "metadata": {},
   "source": [
    "| **Assignment**                | **Points**    | **Grade** | **Evidence** |\n",
    "|-------------------------------|---------------|-----------|--------------|\n",
    "| Sprint 1-3 Review Ticket      | 3             |           |   [Sprint 1](https://tarunja1ks.github.io/CSATarunStudent/2024/09/07/FullChecklistPage_IPYNB_2_.html   )  <br> [sprint2](https://tarunja1ks.github.io/CSATarunStudent/SprintBlog )|\n",
    "| Sprint 3 Team Issue(s)/Plan   | 2             |           |  https://github.com/JITS-K/JITS_Frontend_Project1/issues/4<br>https://github.com/CSA-Coders-2025/Planning-Repository-Issue-House-/issues/17       |\n",
    "| Beginning-2-End Contribution  | 2             |           |     Original Backend Repo(before teams were made): ![Screenshot 2024-11-18 at 5 17 18 PM](https://github.com/user-attachments/assets/844a643a-61bb-4245-a2a6-17aff6cafad5)<br>Combined Frontend <br>![Screenshot 2024-11-18 at 5 50 09 PM](https://github.com/user-attachments/assets/30c3dd79-c384-4bd3-b2b4-2959a8ad64db)<br> Backend Commits<br>![Screenshot 2024-11-18 at 5 52 31 PM](https://github.com/user-attachments/assets/092f7695-1a82-4e1a-86e8-9cb7d9ef6994)|\n",
    "| N@tM Team Presentation        | 2             |           |  Feedback was given to make the site a lot more prettier and to make the boxes bigger so its more visible/prominent<br>![Screenshot 2024-11-18 at 6 40 44 PM](https://github.com/user-attachments/assets/ed0144e5-40a7-4867-9c86-861d08e8ef76)<br>UI improvement https://docs.google.com/forms/d/1IYwPMcAGiBuxtwPxn8vFYd3o26KU_50f3kdZcPegxiw/edit#responses|\n",
    "| Live Review Indi Demo         | 1             |     0.9      |     ![Screenshot 2024-11-18 at 6 42 07 PM](https://github.com/user-attachments/assets/14b6d49d-d940-4d9a-8bca-776c3059cbb2)         |\n",
    "| **Total**                     | 10            |           |              |\n",
    "\n",
    "| **Skill**                  | **Points**    | **Grade** | **Evidence** |\n",
    "|----------------------------|---------------|-----------|--------------|\n",
    "| Work Habits (Analytics)    | 1             |           |          ![Screenshot 2024-11-18 at 6 58 44 PM](https://github.com/user-attachments/assets/2ce9b703-4cf3-43f7-9307-5107e6f4c36d)|\n",
    "| Evidence of Role in Team   | 1             |           |  ![Screenshot 2024-11-18 at 10 00 19 PM](https://github.com/user-attachments/assets/5b48aed3-a831-45d0-965f-b7c947ef1667) <br> ![Screenshot 2024-11-18 at 9 51 12 PM](https://github.com/user-attachments/assets/16b8932d-1a45-4c17-916f-762d3bb9a6df) <br> ![Screenshot 2024-11-18 at 9 49 32 PM](https://github.com/user-attachments/assets/4884f81e-2689-47b4-bae5-d2e642492749) <br>https://tarunja1ks.github.io/CSATarunStudent/2024/11/07/NATM_IPYNB_2_.html | \n",
    "| Function / Purpose Design  | 1             |           |  ![Screenshot 2024-11-18 at 9 51 12 PM](https://github.com/user-attachments/assets/16b8932d-1a45-4c17-916f-762d3bb9a6df)<br> Purpose of the project is to allow submissions onto a common nighthawkcoder pages and to make an easier to use platform than github utterances. It is also to allow easy control for the teacher over assignments and different details, and to make presenting/live reviewing them much smoother. <br> [cool feature I added](https://github.com/CSA-Coders-2025/CSA_Combined_Backend_Fork/blob/mortevision/src/main/java/com/nighthawk/spring_portfolio/system/ModelInit.java )<br> [other link to cool feature](https://github.com/CSA-Coders-2025/CSA_Combined_Backend_Fork/blob/mortevision/src/main/java/com/nighthawk/spring_portfolio/mvc/mortevision/Assignment.java)| \n",
    "| Live Review                | 2             |           |              | \n",
    "| **Total**                  | 5             |           |              |"
   ]
  }
 ],
 "metadata": {
  "language_info": {
   "name": "python"
  }
 },
 "nbformat": 4,
 "nbformat_minor": 2
}
