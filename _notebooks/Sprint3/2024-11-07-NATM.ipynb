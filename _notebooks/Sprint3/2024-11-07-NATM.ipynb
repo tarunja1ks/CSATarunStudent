{
 "cells": [
  {
   "cell_type": "markdown",
   "metadata": {},
   "source": [
    "---\n",
    "layout: post\n",
    "title:  NATM memories\n",
    "description: These are my memories of the NATM stuff. \n",
    "---"
   ]
  },
  {
   "cell_type": "markdown",
   "metadata": {},
   "source": [
    "## Pictures from NATM "
   ]
  },
  {
   "cell_type": "markdown",
   "metadata": {},
   "source": [
    "![IMG_8077](https://github.com/user-attachments/assets/8c2c6054-dac4-4857-a91d-f0c8b39b5b89)\n",
    "![IMG_8079](https://github.com/user-attachments/assets/e7588d79-3b80-45d4-9f78-bdd809578e8f)\n",
    "![IMG_8080](https://github.com/user-attachments/assets/6a54af7e-a30d-4002-ad53-ba5b2153ec61)\n",
    "![IMG_8081](https://github.com/user-attachments/assets/b441e637-4422-4bc0-88ca-146f2d6ece77)\n",
    "![IMG_8082](https://github.com/user-attachments/assets/b570a912-2d31-4d36-b762-8bafb0bf3e88)\n",
    "<img width=\"724\" alt=\"Screenshot 2024-11-18 at 10 15 33 PM\" src=\"https://github.com/user-attachments/assets/69f3f6a7-f82b-4136-87bc-c712365c3f93\">\n",
    "<img width=\"1031\" alt=\"Screenshot 2024-11-18 at 10 15 45 PM\" src=\"https://github.com/user-attachments/assets/b4d7d5b8-0e0a-484b-800d-ca62587e34db\">\n"
   ]
  },
  {
   "cell_type": "markdown",
   "metadata": {
    "vscode": {
     "languageId": "plaintext"
    }
   },
   "source": [
    "## NATM\n",
    "### Presentation Overview:\n",
    "## Provide a brief summary of your N@tM presentation.\n",
    "\n",
    "- got a lot of good feedback mainly towards the UI\n",
    "- Able to show people our cool webrtc project and many parents impressed\n",
    "- Talked about different features such as screenshare, submission, and assignment queue\n",
    "\n",
    "## Highlight the key points and features you presented.\n",
    "### Audience Feedback:\n",
    "## Collect feedback from the audience, including peers, teachers, and visitors.\n",
    "- https://docs.google.com/forms/d/1IYwPMcAGiBuxtwPxn8vFYd3o26KU_50f3kdZcPegxiw/edit \n",
    "Summarize the positive feedback and areas for improvement mentioned by the audience.\n",
    "- Main area of improvement is increasing the UI\n",
    "- Making it more useable and less messy/complex seeming\n",
    "### Questions and Answers:\n",
    "## Document the questions asked by the audience during your presentation.\n",
    "- One of the questions include how we were able to accomplish the Screenshare\n",
    "- Another question was if we used a database\n",
    "\n",
    "## Provide your answers to these questions and any additional insights gained.\n",
    "- Some insights gained are databases are used commonly across software programming in general and is an important skill to learn about\n",
    "Demonstration and Interaction:\n",
    "Describe how you demonstrated your project to the audience.\n",
    "Highlight any interactive elements and how the audience engaged with your project.\n",
    "Reflections and Improvements:\n",
    "Reflect on the feedback received and your overall presentation experience.\n",
    "Identify specific areas for improvement and potential next steps for your project."
   ]
  }
 ],
 "metadata": {
  "language_info": {
   "name": "python"
  }
 },
 "nbformat": 4,
 "nbformat_minor": 2
}
