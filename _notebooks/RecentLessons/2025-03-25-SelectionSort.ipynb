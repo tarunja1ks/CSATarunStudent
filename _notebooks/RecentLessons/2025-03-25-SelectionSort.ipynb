{
 "cells": [
  {
   "cell_type": "markdown",
   "metadata": {},
   "source": [
    "---\n",
    "layout: post\n",
    "title: Selection Sort\n",
    "description: Sorting Part 1 Hw\n",
    "---"
   ]
  },
  {
   "cell_type": "markdown",
   "metadata": {},
   "source": [
    "# Homework Part 1"
   ]
  },
  {
   "cell_type": "code",
   "execution_count": 3,
   "metadata": {
    "vscode": {
     "languageId": "java"
    }
   },
   "outputs": [
    {
     "name": "stdout",
     "output_type": "stream",
     "text": [
      "Original array 1: [1, 2, 11, 1, 12]\n",
      "Sorted array 1 (descending): [12, 11, 2, 1, 1]\n",
      "\n",
      "Original array 2: [1, 2, 11, 1, 12]\n",
      "Sorted array 2 (ascending): [1, 1, 2, 11, 12]\n"
     ]
    }
   ],
   "source": [
    "\n",
    "public static void selectionSortDescending(int[] arr) {\n",
    "    int n = arr.length;\n",
    "    for (int i = 0; i < n - 1; i++) {\n",
    "        int maxIndex = i;\n",
    "        for (int j = i + 1; j < n; j++) {\n",
    "            if (arr[j] > arr[maxIndex]) {\n",
    "                maxIndex = j;\n",
    "            }\n",
    "        }\n",
    "        int temp = arr[i];\n",
    "        arr[i] = arr[maxIndex];\n",
    "        arr[maxIndex] = temp;\n",
    "    }\n",
    "}\n",
    "public static void insertionSortAscending(int[] arr) {\n",
    "    int n = arr.length;\n",
    "    for (int i = 1; i < n; ++i) {\n",
    "        int key = arr[i];\n",
    "        int j = i - 1;\n",
    "        while (j >= 0 && arr[j] > key) {\n",
    "            arr[j + 1] = arr[j];\n",
    "            j = j - 1;\n",
    "        }\n",
    "        arr[j + 1] = key;\n",
    "    }\n",
    "}\n",
    "\n",
    "int[] arr1 = {1, 2, 11, 1, 12};\n",
    "int[] arr2 = {1, 2, 11, 1, 12};\n",
    "System.out.println(\"Original array 1: \"+Arrays.toString(arr1));\n",
    "selectionSortDescending(arr1);\n",
    "System.out.println(\"Sorted array 1 (descending): \"+Arrays.toString(arr1));\n",
    "System.out.println(\"\\nOriginal array 2: \"+Arrays.toString(arr2));\n",
    "insertionSortAscending(arr2);\n",
    "System.out.println(\"Sorted array 2 (ascending): \"+Arrays.toString(arr2));"
   ]
  },
  {
   "cell_type": "markdown",
   "metadata": {},
   "source": [
    "# Homework Part 2"
   ]
  },
  {
   "cell_type": "code",
   "execution_count": 11,
   "metadata": {
    "vscode": {
     "languageId": "java"
    }
   },
   "outputs": [
    {
     "name": "stdout",
     "output_type": "stream",
     "text": [
      "Original array A: [29, 10, 14, 37, 13]\n",
      "Selection Sort Array A time: 917 nanoseconds\n",
      "Insertion Sort Array A time: 750 nanoseconds\n",
      "Sorted Array A (insertion): [10, 13, 14, 29, 37]\n",
      "\n",
      "Original array B: [1, 2, 5, 4, 3, 6, 7, 8, 9, 10]\n",
      "Selection Sort Array B time: 1875 nanoseconds\n",
      "Insertion Sort Array B time: 833 nanoseconds\n",
      "Sorted Array B (insertion): [1, 2, 3, 4, 5, 6, 7, 8, 9, 10]\n"
     ]
    }
   ],
   "source": [
    "import java.util.Arrays;\n",
    "\n",
    "\n",
    "public static long selectionSortDescending(int[] arr) {\n",
    "    long startTime = System.nanoTime();\n",
    "    int n = arr.length;\n",
    "    for (int i = 0; i < n - 1; i++) {\n",
    "        int maxIndex = i;\n",
    "        for (int j = i + 1; j < n; j++) {\n",
    "            if (arr[j] > arr[maxIndex]) {\n",
    "                maxIndex = j;\n",
    "            }\n",
    "        }\n",
    "        int temp = arr[i];\n",
    "        arr[i] = arr[maxIndex];\n",
    "        arr[maxIndex] = temp;\n",
    "    }\n",
    "    long endTime = System.nanoTime();\n",
    "    return endTime - startTime;\n",
    "}\n",
    "\n",
    "public static long insertionSortAscending(int[] arr) {\n",
    "    long startTime = System.nanoTime();\n",
    "    int n = arr.length;\n",
    "    for (int i = 1; i < n; ++i) {\n",
    "        int key = arr[i];\n",
    "        int j = i - 1;\n",
    "        while (j >= 0 && arr[j] > key) {\n",
    "            arr[j + 1] = arr[j];\n",
    "            j = j - 1;\n",
    "        }\n",
    "        arr[j + 1] = key;\n",
    "    }\n",
    "    long endTime = System.nanoTime();\n",
    "    return endTime - startTime;\n",
    "}\n",
    "\n",
    "int[] arrayA = {29, 10, 14, 37, 13};\n",
    "int[] arrayB = {1, 2, 5, 4, 3, 6, 7, 8, 9, 10};\n",
    "int[] sortedArrayASelection = arrayA.clone();\n",
    "int[] sortedArrayAInsertion = arrayA.clone();\n",
    "int[] sortedArrayBSelection = arrayB.clone();\n",
    "int[] sortedArrayBInsertion = arrayB.clone();\n",
    "\n",
    "\n",
    "long selectionTimeA = selectionSortDescending(sortedArrayASelection);\n",
    "long insertionTimeA = insertionSortAscending(sortedArrayAInsertion);\n",
    "long selectionTimeB = selectionSortDescending(sortedArrayBSelection);\n",
    "long insertionTimeB = insertionSortAscending(sortedArrayBInsertion);\n",
    "\n",
    "System.out.println(\"Original array A: \" + Arrays.toString(arrayA));\n",
    "System.out.println(\"Selection Sort Array A time: \" + selectionTimeA + \" nanoseconds\");\n",
    "System.out.println(\"Insertion Sort Array A time: \" + insertionTimeA + \" nanoseconds\");\n",
    "System.out.println(\"Sorted Array A (insertion): \" + Arrays.toString(sortedArrayAInsertion));\n",
    "\n",
    "System.out.println(\"\\nOriginal array B: \" + Arrays.toString(arrayB));\n",
    "System.out.println(\"Selection Sort Array B time: \" + selectionTimeB + \" nanoseconds\");\n",
    "System.out.println(\"Insertion Sort Array B time: \" + insertionTimeB + \" nanoseconds\");\n",
    "System.out.println(\"Sorted Array B (insertion): \" + Arrays.toString(sortedArrayBInsertion));\n",
    "   \n",
    "\n"
   ]
  },
  {
   "cell_type": "markdown",
   "metadata": {},
   "source": [
    "For array A, which was a small, unsorted list, both selection and insertion sort took about the same time. There wasn't a big diffrence becuase the array was so small, and the algorithims don't have alot of overhead.However, insertion sort was normally a bit faster as it was a smaller array, which is better for inerstion sort. Array B, being mostly sorted, showed that insertion sort is much faster. This is becuase insertion sort is really good at sorting almost sorted lists.\n",
    "\n",
    "Selection sort is best for small lists or when you don't want to swap items alot, but it's slow on nearly sorted lists. Insertion sort is good for small lists and almost sorted lists. It's faster then selection sort on small lists, and really fast on already sorted or nearly sorted lists.\n",
    "\n"
   ]
  }
 ],
 "metadata": {
  "kernelspec": {
   "display_name": "Java",
   "language": "java",
   "name": "java"
  },
  "language_info": {
   "codemirror_mode": "java",
   "file_extension": ".jshell",
   "mimetype": "text/x-java-source",
   "name": "Java",
   "pygments_lexer": "java",
   "version": "23.0.1+11-39"
  }
 },
 "nbformat": 4,
 "nbformat_minor": 2
}
