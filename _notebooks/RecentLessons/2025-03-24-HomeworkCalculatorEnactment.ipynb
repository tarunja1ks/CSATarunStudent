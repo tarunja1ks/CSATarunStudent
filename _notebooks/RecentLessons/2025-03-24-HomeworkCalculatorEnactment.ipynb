{
 "cells": [
  {
   "cell_type": "markdown",
   "metadata": {
    "vscode": {
     "languageId": "java"
    }
   },
   "source": [
    "---\n",
    "layout: post\n",
    "title: Calculator Enactment Hw\n",
    "description: Homework Calculator Enactment\n",
    "---"
   ]
  },
  {
   "cell_type": "markdown",
   "metadata": {
    "vscode": {
     "languageId": "plaintext"
    }
   },
   "source": [
    "# Popcorn Hack\n",
    "\n",
    "1. 6*3+4\n",
    "2. 10+2*8-3\n",
    "3. 15/3+4*2\n",
    "4. 7+3*2-5\n",
    "5. (9+3)^2"
   ]
  },
  {
   "cell_type": "markdown",
   "metadata": {},
   "source": [
    "# Homework"
   ]
  },
  {
   "cell_type": "code",
   "execution_count": 7,
   "metadata": {},
   "outputs": [
    {
     "name": "stdout",
     "output_type": "stream",
     "text": [
      "15.0\n",
      "-4.0\n"
     ]
    }
   ],
   "source": [
    "import java.util.Stack;\n",
    "\n",
    "\n",
    "public static double calculatePrefix(String expression) {\n",
    "    String[] tokens = expression.split(\" \");\n",
    "    Stack<Double> stack = new Stack<>();\n",
    "\n",
    "    for (int i = tokens.length - 1; i >= 0; i--) {\n",
    "        String token = tokens[i];\n",
    "\n",
    "        if (isNumeric(token)) {\n",
    "            stack.push(Double.parseDouble(token));\n",
    "        } else {\n",
    "            double operand2 = stack.pop();\n",
    "            double operand1 = stack.pop();\n",
    "            double result = performOperation(token, operand1, operand2);\n",
    "            stack.push(result);\n",
    "        }\n",
    "    }\n",
    "    return stack.pop();\n",
    "}\n",
    "\n",
    "private static double performOperation(String operator, double operand1, double operand2) {\n",
    "    switch (operator) {\n",
    "        case \"+\":\n",
    "            return operand1 + operand2;\n",
    "        case \"-\":\n",
    "            return operand1 - operand2;\n",
    "        case \"*\":\n",
    "            return operand1 * operand2;\n",
    "        case \"/\":\n",
    "            return operand1 / operand2;\n",
    "        default:\n",
    "            return 0;\n",
    "    }\n",
    "}\n",
    "\n",
    "private static boolean isNumeric(String str) {\n",
    "    try {\n",
    "        Double.parseDouble(str);\n",
    "        return true;\n",
    "    } catch (NumberFormatException e) {\n",
    "        return false;\n",
    "    }\n",
    "}\n",
    "\n",
    "double result1 = calculatePrefix(\"* 3 5\");\n",
    "double result2 = calculatePrefix(\"* 2 - 7 5\");\n",
    "\n",
    "System.out.println(result1);\n",
    "System.out.println(result2);\n",
    "    \n",
    "\n",
    "\n"
   ]
  }
 ],
 "metadata": {
  "kernelspec": {
   "display_name": "Java",
   "language": "java",
   "name": "java"
  },
  "language_info": {
   "codemirror_mode": "java",
   "file_extension": ".jshell",
   "mimetype": "text/x-java-source",
   "name": "java",
   "pygments_lexer": "java",
   "version": "23.0.1+11-39"
  }
 },
 "nbformat": 4,
 "nbformat_minor": 2
}
