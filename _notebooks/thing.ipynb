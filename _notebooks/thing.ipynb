{
 "cells": [
  {
   "cell_type": "code",
   "execution_count": null,
   "metadata": {
    "vscode": {
     "languageId": "java"
    }
   },
   "outputs": [
    {
     "ename": "CompilationException",
     "evalue": "",
     "output_type": "error",
     "traceback": [
      "\u001b[1m\u001b[30m|   \u001b[1m\u001b[30m\u001b[0m\u001b[1m\u001b[30m\u001b[41mMergesort\u001b[0m\u001b[1m\u001b[30m.main();\u001b[0m",
      "\u001b[1m\u001b[31mcannot find symbol\u001b[0m",
      "\u001b[1m\u001b[31m  symbol:   variable Mergesort\u001b[0m",
      ""
     ]
    }
   ],
   "source": [
    "class MergeSort {\n",
    "    void merge(int arr[], int left, int mid, int right) {\n",
    "        int n1 = mid - left + 1;\n",
    "        int n2 = right - mid;\n",
    "\n",
    "        int L[] = new int[n1];\n",
    "        int R[] = new int[n2];\n",
    "\n",
    "        for (int i = 0; i < n1; i++)\n",
    "            L[i] = arr[left + i];\n",
    "        for (int j = 0; j < n2; j++)\n",
    "            R[j] = arr[mid + 1 + j];\n",
    "\n",
    "        int i = 0, j = 0, k = left;\n",
    "        while (i < n1 && j < n2) {\n",
    "            if (L[i] <= R[j]) {\n",
    "                arr[k] = L[i];\n",
    "                i++;\n",
    "            } else {\n",
    "                arr[k] = R[j];\n",
    "                j++;\n",
    "            }\n",
    "            k++;\n",
    "        }\n",
    "\n",
    "        while (i < n1) {\n",
    "            arr[k] = L[i];\n",
    "            i++;\n",
    "            k++;\n",
    "        }\n",
    "\n",
    "        while (j < n2) {\n",
    "            arr[k] = R[j];\n",
    "            j++;\n",
    "            k++;\n",
    "        }\n",
    "    }\n",
    "\n",
    "    void sort(int arr[], int left, int right) {\n",
    "        if (left < right) {\n",
    "            int mid = left + (right - left) / 2;\n",
    "\n",
    "            sort(arr, left, mid);\n",
    "            sort(arr, mid + 1, right);\n",
    "            merge(arr, left, mid, right);\n",
    "        }\n",
    "    }\n",
    "\n",
    "    static void printArray(int arr[]) {\n",
    "        for (int i : arr)\n",
    "            System.out.print(i + \" \");\n",
    "        System.out.println();\n",
    "    }\n",
    "\n",
    "    public static void main(String args[]) {\n",
    "        int arr[] = { 12, 11, 13, 5, 6, 7 };\n",
    "        MergeSort ob = new MergeSort();\n",
    "        ob.sort(arr, 0, arr.length - 1);\n",
    "        System.out.println(\"Sorted array:\");\n",
    "        printArray(arr);\n",
    "    }\n",
    "}\n",
    "\n"
   ]
  }
 ],
 "metadata": {
  "kernelspec": {
   "display_name": "Java",
   "language": "java",
   "name": "java"
  },
  "language_info": {
   "codemirror_mode": "java",
   "file_extension": ".jshell",
   "mimetype": "text/x-java-source",
   "name": "Java",
   "pygments_lexer": "java",
   "version": "23.0.1+11-39"
  }
 },
 "nbformat": 4,
 "nbformat_minor": 2
}
