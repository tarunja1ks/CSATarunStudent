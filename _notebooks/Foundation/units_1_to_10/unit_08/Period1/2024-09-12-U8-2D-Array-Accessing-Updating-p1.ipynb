{
 "cells": [
  {
   "cell_type": "raw",
   "metadata": {
    "vscode": {
     "languageId": "raw"
    }
   },
   "source": [
    "---\n",
    "layout: post\n",
    "toc: true\n",
    "title: Unit 8 - 2D Arrays Accessing and Updating\n",
    "description: 2D Arrays Lesson\n",
    "authors: Anusha Khobare\n",
    "categories: [AP CSA]\n",
    "type: ccc\n",
    "permalink: /unit8lesson-p1-accessing-updating\n",
    "menu: nav/CSA_Units/csa_unit8_p1.html\n",
    "---"
   ]
  },
  {
   "cell_type": "markdown",
   "metadata": {},
   "source": [
    "## Accessing and updating the values of a 2D array\n",
    "In Java, accessing and updating values in a 2D array is done using the row and column indices. The general format is:\n",
    "\n",
    "~~~\n",
    "- **Accessing a value**: array[row][column]\n",
    "- **Updating a value**: array[row][column] = newValue;\n",
    "~~~\n",
    "\n",
    "![image](https://github.com/user-attachments/assets/b1f79b97-f81b-4ea5-951d-5c098fae0767)\n"
   ]
  },
  {
   "cell_type": "markdown",
   "metadata": {},
   "source": [
    "### Popcorn Hack 1 (Part 2)\n",
    "- **Update the values of the array, you made in part 1 to the group members in another group**"
   ]
  },
  {
   "cell_type": "code",
   "execution_count": 3,
   "metadata": {
    "vscode": {
     "languageId": "java"
    }
   },
   "outputs": [
    {
     "name": "stdout",
     "output_type": "stream",
     "text": [
      "[[Tarun, Jon], [Srijan, Ian]]\n",
      "[[Tarun, Jon], [Srijan, Ian]]\n",
      "[[Tarun, Jon], [Srijan, Ian]]\n",
      "[[Tanav, Sri], [Saathwik, Aiden]]\n",
      "[[Tanav, Sri], [Saathwik, Aiden]]\n",
      "[[Tanav, Sri], [Saathwik, Aiden]]\n"
     ]
    }
   ],
   "source": [
    "\n",
    "String[][] method1 = {\n",
    "    {\"Tarun\", \"Jon\"},\n",
    "    {\"Srijan\", \"Ian\"}\n",
    "};\n",
    "\n",
    "String[][]method2=new String[2][2];\n",
    "method2[0][0]=\"Tarun\";\n",
    "method2[0][1]=\"Jon\";\n",
    "method2[1][0]=\"Srijan\";\n",
    "method2[1][1]=\"Ian\";\n",
    "\n",
    "\n",
    "String[]names={\"Tarun\",\"Jon\",\"Srijan\",\"Ian\"};\n",
    "String[][]method3=new String[2][2];\n",
    "int i=0;\n",
    "int j=0;\n",
    "for(int index=0;index<names.length;index++){\n",
    "    method3[i][j]=names[index];\n",
    "    j+=1;\n",
    "    if(j==2){\n",
    "        j=0;\n",
    "        i+=1;\n",
    "    }\n",
    "}\n",
    "System.out.println(Arrays.deepToString(method1));\n",
    "System.out.println(Arrays.deepToString(method2));\n",
    "System.out.println(Arrays.deepToString(method3));\n",
    "\n",
    "\n",
    "String[][]newArray={\n",
    "    {\"Tanav\",\"Sri\"},\n",
    "    {\"Saathwik\",\"Aiden\"}\n",
    "};\n",
    "method1=newArray;\n",
    "method2=newArray;\n",
    "method3=newArray;\n",
    "\n",
    "System.out.println(Arrays.deepToString(method1));\n",
    "System.out.println(Arrays.deepToString(method2));\n",
    "System.out.println(Arrays.deepToString(method3));\n"
   ]
  }
 ],
 "metadata": {
  "kernelspec": {
   "display_name": "Java",
   "language": "java",
   "name": "java"
  },
  "language_info": {
   "codemirror_mode": "java",
   "file_extension": ".jshell",
   "mimetype": "text/x-java-source",
   "name": "Java",
   "pygments_lexer": "java",
   "version": "17.0.11+7-LTS-207"
  },
  "orig_nbformat": 4
 },
 "nbformat": 4,
 "nbformat_minor": 2
}
