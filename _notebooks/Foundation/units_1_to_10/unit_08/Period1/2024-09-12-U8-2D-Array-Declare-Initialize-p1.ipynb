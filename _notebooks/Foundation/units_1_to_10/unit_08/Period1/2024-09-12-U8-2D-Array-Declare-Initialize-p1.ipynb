{
 "cells": [
  {
   "cell_type": "raw",
   "metadata": {
    "vscode": {
     "languageId": "raw"
    }
   },
   "source": [
    "---\n",
    "layout: post\n",
    "toc: true\n",
    "title: Unit 8 - 2D Arrays Declaring and Initializing\n",
    "description: 2D Arrays Lesson\n",
    "authors: Anusha Khobare\n",
    "categories: [AP CSA]\n",
    "type: ccc\n",
    "permalink: /unit8lesson-p1-declare-initialize\n",
    "menu: nav/CSA_Units/csa_unit8_p1.html\n",
    "---"
   ]
  },
  {
   "cell_type": "markdown",
   "metadata": {},
   "source": [
    "## How to declare/initialize 2D arrays"
   ]
  },
  {
   "cell_type": "raw",
   "metadata": {
    "vscode": {
     "languageId": "raw"
    }
   },
   "source": [
    "// Boiler Plate Code\n",
    "public class Main {\n",
    "    public static void main(String[] args) {\n",
    "\n",
    "        */ (Intialize Array Here) */\n",
    "\n",
    "        // Display Array Code below\n",
    "        for(int i = 0; i < myArray.length; i++) {\n",
    "            for (int j = 0; j < myArray[i].length; j++) {\n",
    "                System.out.print(myArray[i][j] + \" \");\n",
    "            }\n",
    "            System.out.println();\n",
    "        }\n",
    "    }\n",
    "}\n",
    "\n",
    "Main.main(null)"
   ]
  },
  {
   "cell_type": "markdown",
   "metadata": {},
   "source": [
    "1) All in one\n",
    "~~~\n",
    "int[][] matrix = {\n",
    "    {1, 2, 3},\n",
    "    {4, 5, 6},\n",
    "    {7, 8, 9}\n",
    "};\n",
    "~~~"
   ]
  },
  {
   "cell_type": "markdown",
   "metadata": {},
   "source": [
    "2) Empty array and manual input with indexes\n",
    "~~~\n",
    "// Declare a 3x3 empty 2D array\n",
    "int[][] matrix = new int[3][3];\n",
    "\n",
    "// Assign values to the 2D array using indexes\n",
    "matrix[0][0] = 1;\n",
    "matrix[0][1] = 2;\n",
    "matrix[0][2] = 3;\n",
    "matrix[1][0] = 4;\n",
    "matrix[1][1] = 5;\n",
    "matrix[1][2] = 6;\n",
    "matrix[2][0] = 7;\n",
    "matrix[2][1] = 8;\n",
    "matrix[2][2] = 9;\n",
    "~~~"
   ]
  },
  {
   "cell_type": "markdown",
   "metadata": {},
   "source": [
    "3) Nested For-Loop\n",
    "~~~\n",
    "int value = 1; // Start value\n",
    "for (int i = 0; i < matrix.length; i++) {  // Outer loop for rows\n",
    "    for (int j = 0; j < matrix[i].length; j++) {  // Inner loop for columns\n",
    "        matrix[i][j] = value++; // Assign value and increment\n",
    "    }\n",
    "}\n",
    "~~~"
   ]
  },
  {
   "cell_type": "markdown",
   "metadata": {},
   "source": [
    "### Popcorn Hack 1 (Part 1): \n",
    "- **Intialize a 2D array of the people in your group grouped based on pairs with 3 different methods** \n",
    "- ex Array: [[Anusha, Vibha],[Avanthika, Matthew]]"
   ]
  },
  {
   "cell_type": "code",
   "execution_count": 3,
   "metadata": {
    "vscode": {
     "languageId": "java"
    }
   },
   "outputs": [
    {
     "name": "stdout",
     "output_type": "stream",
     "text": [
      "[[Tarun, Jon], [Srijan, Ian]]\n",
      "[[Tarun, Jon], [Srijan, Ian]]\n",
      "[[Tarun, Jon], [Srijan, Ian]]\n"
     ]
    }
   ],
   "source": [
    "\n",
    "String[][] method1 = {\n",
    "    {\"Tarun\", \"Jon\"},\n",
    "    {\"Srijan\", \"Ian\"}\n",
    "};\n",
    "\n",
    "String[][]method2=new String[2][2];\n",
    "method2[0][0]=\"Tarun\";\n",
    "method2[0][1]=\"Jon\";\n",
    "method2[1][0]=\"Srijan\";\n",
    "method2[1][1]=\"Ian\";\n",
    "\n",
    "\n",
    "String[]names={\"Tarun\",\"Jon\",\"Srijan\",\"Ian\"};\n",
    "String[][]method3=new String[2][2];\n",
    "int i=0;\n",
    "int j=0;\n",
    "for(int index=0;index<names.length;index++){\n",
    "    method3[i][j]=names[index];\n",
    "    j+=1;\n",
    "    if(j==2){\n",
    "        j=0;\n",
    "        i+=1;\n",
    "    }\n",
    "}\n",
    "System.out.println(Arrays.deepToString(method1));\n",
    "System.out.println(Arrays.deepToString(method2));\n",
    "System.out.println(Arrays.deepToString(method3));\n"
   ]
  }
 ],
 "metadata": {
  "kernelspec": {
   "display_name": "Java",
   "language": "java",
   "name": "java"
  },
  "language_info": {
   "codemirror_mode": "java",
   "file_extension": ".jshell",
   "mimetype": "text/x-java-source",
   "name": "Java",
   "pygments_lexer": "java",
   "version": "17.0.11+7-LTS-207"
  },
  "orig_nbformat": 4
 },
 "nbformat": 4,
 "nbformat_minor": 2
}
