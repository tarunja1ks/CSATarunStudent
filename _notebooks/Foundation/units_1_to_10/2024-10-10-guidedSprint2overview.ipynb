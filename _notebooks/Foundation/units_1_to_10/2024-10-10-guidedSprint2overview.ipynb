{
 "cells": [
  {
   "cell_type": "code",
   "execution_count": null,
   "metadata": {
    "vscode": {
     "languageId": "plaintext"
    }
   },
   "outputs": [],
   "source": [
    "---\n",
    "layout: post\n",
    "toc: true\n",
    "title: GuidedBlogSprint2\n",
    "description: Overview of the Unit\n",
    "authors: Tarun\n",
    "permalink: /GuidedSprint2Blog\n",
    "---"
   ]
  },
  {
   "cell_type": "markdown",
   "metadata": {
    "vscode": {
     "languageId": "plaintext"
    }
   },
   "source": [
    "## Personal Blog for Recap/ Beyond Perfunctory\n",
    "https://tarunja1ks.github.io/CSATarunStudent/csa/OverviewFoundations \n",
    "\n",
    "    "
   ]
  },
  {
   "cell_type": "markdown",
   "metadata": {
    "vscode": {
     "languageId": "plaintext"
    }
   },
   "source": [
    "## Memories\n",
    "![Printing An Array](https://github.com/user-attachments/assets/1ffe8244-85a9-4126-bfb0-3b0fb71ab5d8)\n",
    "![Python Translations](https://github.com/user-attachments/assets/b6249195-25a2-45f5-af09-eb5680a54357)"
   ]
  },
  {
   "cell_type": "markdown",
   "metadata": {},
   "source": [
    "## Best Relevancys\n",
    "\n",
    "-  Nikhils blog taught me a lot about the inheritance and polymoprhism stuff, which I complete forgot existed(mainly polymorphism) https://nighthawkcoders.github.io/portfolio_2025/inheritance\n",
    "-  Aadits blog was very good for reviisng my OOP fundementals (https://aaguy-hue.github.io/aadit_2025/csa/unit2/period3/part4/)\n",
    "- I liked Anushas lesson and how it went over binary search(something which I needed to revise)\n",
    "https://nighthawkcoders.github.io/portfolio_2025/unit8lesson-p1-algorithms"
   ]
  }
 ],
 "metadata": {
  "language_info": {
   "name": "python"
  }
 },
 "nbformat": 4,
 "nbformat_minor": 2
}
