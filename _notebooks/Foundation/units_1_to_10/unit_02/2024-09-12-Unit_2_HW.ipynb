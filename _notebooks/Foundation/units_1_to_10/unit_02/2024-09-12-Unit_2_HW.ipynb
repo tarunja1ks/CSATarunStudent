{
 "cells": [
  {
   "cell_type": "raw",
   "metadata": {
    "vscode": {
     "languageId": "raw"
    }
   },
   "source": [
    "---\n",
    "layout: post\n",
    "title: Unit 2 — Recap & Homework\n",
    "description: A recap of everything we covered today.\n",
    "type: collab\n",
    "toc: true\n",
    "permalink: /csa/unit2/period3/homework/\n",
    "menu: nav/CSA_Units/csa_unit2.html\n",
    "comments: true\n",
    "author: Aadit Mathur, Eric Yu, Shuban Pal, Rahul Verma\n",
    "---"
   ]
  },
  {
   "cell_type": "markdown",
   "metadata": {
    "vscode": {
     "languageId": "java"
    }
   },
   "source": [
    "# Homework\n",
    "Now, it's time to practice! The following problem will incorporate the following concepts:\n",
    "- Classes\n",
    "    - Constructors\n",
    "- Methods\n",
    "    - Void methods\n",
    "    - Non-void methods\n",
    "- Math class\n",
    "- `Integer` and `Double` wrapper classes\n",
    "- String methods"
   ]
  },
  {
   "cell_type": "code",
   "execution_count": 11,
   "metadata": {
    "vscode": {
     "languageId": "java"
    }
   },
   "outputs": [
    {
     "name": "stdout",
     "output_type": "stream",
     "text": [
      "Circle 1:\n",
      "Radius: 5.0\n",
      "Circumference: 31.400000000000002\n",
      "Area: 78.5\n",
      "\n",
      "Circle 2:\n",
      "Radius: 7.0\n",
      "Circumference: 43.96\n",
      "Area: 153.86\n",
      "\n",
      "Student 1:\n",
      "Name: Aadit\n",
      "Name Length: 5\n",
      "Grade: 75.0\n",
      "Scaled Grade: 37\n",
      "\n",
      "Student 2:\n",
      "Name: Emily\n",
      "Name Length: 5\n",
      "Grade: 45.0\n",
      "Scaled Grade: 22\n"
     ]
    }
   ],
   "source": [
    "public class Circle {\n",
    "    // 1. Class variable: radius (double)\n",
    "\n",
    "    // 2. Make a constructor that takes in the radius as a parameter, and sets the radius property\n",
    "\n",
    "    // 3. cirumference() method: Calculate and return the circumference\n",
    "\n",
    "    // 4. area() method: Calculate and return the area, use Math.pow()\n",
    "    public double radius;\n",
    "    Circle(double radius){\n",
    "        this.radius=radius;\n",
    "\n",
    "    }\n",
    "\n",
    "    public double circumference(){\n",
    "        return this.radius*2*3.14;\n",
    "    }\n",
    "    public double area(){\n",
    "        return 3.14*Math.pow(this.radius,2);\n",
    "    }\n",
    "}\n",
    "\n",
    "public class Student {\n",
    "    // 1. Class variables: name (String) and grade (Integer)\n",
    "\n",
    "    // 2. Constructor to initialize name and grade\n",
    "\n",
    "    // 3. nameLength() method: Return the length of the student's name\n",
    "\n",
    "    // 4. getGradeAsDouble() method: Return the grade as the Double wrapper type\n",
    "\n",
    "    // 5. getScaledGrade() method: Return grade divided by 2\n",
    "    public String name;\n",
    "    public int grade;\n",
    "    Student(String name, int grade){\n",
    "        this.name=name;\n",
    "        this.grade=grade;\n",
    "    }\n",
    "    public int nameLength(){return this.name.length();}\n",
    "    public double getGradeAsDouble(){return (double)this.grade;}\n",
    "    public int getScaledGrade(){return grade/2;}\n",
    "}\n",
    "\n",
    "public class Main {\n",
    "    public static void main(String[] args) {\n",
    "        // Testing the Circle class\n",
    "        Circle circle1 = new Circle(5.0);\n",
    "        Circle circle2 = new Circle(7.0);\n",
    "\n",
    "        System.out.println(\"Circle 1:\");\n",
    "        System.out.println(\"Radius: \" + circle1.radius);\n",
    "        System.out.println(\"Circumference: \" + circle1.circumference());\n",
    "        System.out.println(\"Area: \" + circle1.area());\n",
    "\n",
    "        System.out.println(\"\\nCircle 2:\");\n",
    "        System.out.println(\"Radius: \" + circle2.radius);\n",
    "        System.out.println(\"Circumference: \" + circle2.circumference());\n",
    "        System.out.println(\"Area: \" + circle2.area());\n",
    "\n",
    "        // Testing the Student class\n",
    "        Student student1 = new Student(\"Aadit\", 75);\n",
    "        Student student2 = new Student(\"Emily\", 45);\n",
    "\n",
    "        System.out.println(\"\\nStudent 1:\");\n",
    "        System.out.println(\"Name: \" + student1.name);\n",
    "        System.out.println(\"Name Length: \" + student1.nameLength());\n",
    "        System.out.println(\"Grade: \" + student1.getGradeAsDouble());\n",
    "        System.out.println(\"Scaled Grade: \" + student1.getScaledGrade());\n",
    "\n",
    "        System.out.println(\"\\nStudent 2:\");\n",
    "        System.out.println(\"Name: \" + student2.name);\n",
    "        System.out.println(\"Name Length: \" + student2.nameLength());\n",
    "        System.out.println(\"Grade: \" + student2.getGradeAsDouble());\n",
    "        System.out.println(\"Scaled Grade: \" + student2.getScaledGrade());\n",
    "    }\n",
    "}\n",
    "Main.main(null);"
   ]
  }
 ],
 "metadata": {
  "kernelspec": {
   "display_name": "Java",
   "language": "java",
   "name": "java"
  },
  "language_info": {
   "codemirror_mode": "java",
   "file_extension": ".jshell",
   "mimetype": "text/x-java-source",
   "name": "Java",
   "pygments_lexer": "java",
   "version": "17.0.11+7-LTS-207"
  }
 },
 "nbformat": 4,
 "nbformat_minor": 2
}
