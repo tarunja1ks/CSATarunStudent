{
 "cells": [
  {
   "cell_type": "markdown",
   "metadata": {},
   "source": [
    "---\n",
    "layout: post\n",
    "toc: true\n",
    "title: BlogForTechingFoundations\n",
    "description: Inheritance Lesson\n",
    "authors: Tarun\n",
    "permalink: /SprintBlog\n",
    "---"
   ]
  },
  {
   "cell_type": "markdown",
   "metadata": {},
   "source": [
    "| **Assignment**             | **Points**    | **Grade** | **Evidence** |\n",
    "|----------------------------|---------------|-----------|--------------|\n",
    "| Pull Request (Integration) | 2             |   2        |   ![Grade](https://github.com/user-attachments/assets/cadce1c8-85e6-40fb-8083-b3a76b719844) |\n",
    "| Relevancy Checklist (Peer) | 2             |    79.5/90*2=1.77       |    https://tarunja1ks.github.io/CSATarunStudent/csa/unit6-p1/unit6-1          |\n",
    "| Lesson (Group)             | 1             |       0.92    |    https://nighthawkcoders.github.io/portfolio_2025/csa/unit6-p1/unit6-1 ![Grade](https://github.com/user-attachments/assets/de8351f2-c901-4a37-9e0c-4c4345369b99) |\n",
    "| Homework, Popcorn Hacks    | 1 x 8         |   0.9+0.92+0.9+0.88+0.92+0.9+0.9+0.85(from our teamteach grading)) =7.17 |   https://tarunja1ks.github.io/CSATarunStudent/csa/OverviewFoundations     |\n",
    "| Individual Contribution    | 1             |    0.9       |    ![Screenshot 2024-10-08 at 5 40 19 PM](https://github.com/user-attachments/assets/db313e55-5dea-4938-8ae7-345d932584e5) ![Screenshot 2024-10-08 at 5 42 49 PM](https://github.com/user-attachments/assets/f023f655-fdf5-46e3-91b3-17c4acb4b956)  https://github.com/iwu78/teamteach/commits/main/           |\n",
    "| Personal Notebooks / Blogs | 1             |    0.9    |        https://tarunja1ks.github.io/CSATarunStudent/csa/OverviewFoundations     |\n",
    "| Total                      | 15            |    13.66       |              |\n",
    "\n",
    "\n",
    "| **Skill**                  | **Points**    | **Grade** | **Evidence** |\n",
    "|----------------------------|---------------|-----------|--------------|\n",
    "| Work Habits (Analytics)    |   1           |     0.88      |    ![Analytics](https://github.com/user-attachments/assets/afca75f4-c05f-4604-b7c2-c3673b2900c1)      |\n",
    "| Team Planning (Issue)      |   1           |     0.89     |     https://github.com/iwu78/teamteach/issues/1         |\n",
    "| Presentation Memories      |   1           |     0.9      |  ![Printing An Array](https://github.com/user-attachments/assets/1ffe8244-85a9-4126-bfb0-3b0fb71ab5d8) ![Python Translations](https://github.com/user-attachments/assets/b6249195-25a2-45f5-af09-eb5680a54357)|\n",
    "| Grading and Feedback       |   1           |  0.85         | Added the Rubric now      https://docs.google.com/spreadsheets/d/10XepdUcdx_P8o1Fqs39vEvkUzZJwhpFommN9PzveYxY/edit?gid=0#gid=0       |\n",
    "| Beyond Perfunctory         |   1           |   0.88        |   Had Python Translations for better understanding, and introduced non-collegeboard Array methods(Arrays.toString) , As seen in presentation memories; ALSO has lots of commits by me to constantly revise and perfect the lesson     ![Screenshot 2024-10-08 at 5 42 49 PM](https://github.com/user-attachments/assets/f023f655-fdf5-46e3-91b3-17c4acb4b956) , I also have notes/my own project in the page with all the homeworks, which I can look back at to see examples of lessons     | \n",
    "| Total                      |   5           |    4.4       |              |\n",
    "\n",
    "| **Assignment**          | **Weightage** | **Grade** | **Comments**  (Aidan Lau/Nitin Balaji)|\n",
    "|-------------------------|---------------|-----------|--------------|\n",
    "| College Board Coverage  | 20            | (18+18)/2=18       | Covers relevant topic for AP/ Goes over all the major information and knowledge for Unit 6.1          |\n",
    "| Java Examples           | 30            |   (27+27)/2=27    | Includes code examples/The examples are very helpful and help students understand the lesson better.          |\n",
    "| Popcorn Hack Usage      | 10            |(8+9)/2=8.5       |   Has a popcorn hack that covers Java topic and relates to python    / The hacks were created very well and help test whether students understand the lesson and whether they need help. Could have maybe added a bit more time for each hack, but still very good.  |\n",
    "| Homework                | 10            | (9+9)/2=9       |   Homework is challenging and covers the algorithms/   Homework is challenging but necessary and helpful to test understanding of the lesson.    |\n",
    "| Grading Plan            | 10            | (8+8)/2=8       |  Grading plan is covered in spreadshee/ Grading plan is covered in the spreadsheet and explains process.          |\n",
    "| Original an Creative    | 10            | (9+9)/2=9       | Challenge hack is original and creative/ Good originality. The hacks and homework problems were original and seemed like they thought of it on their own.          |\n",
    "| Total                  | **90**        |     79.5      |              |"
   ]
  }
 ],
 "metadata": {
  "language_info": {
   "name": "python"
  }
 },
 "nbformat": 4,
 "nbformat_minor": 2
}
