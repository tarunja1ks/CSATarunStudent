{
 "cells": [
  {
   "cell_type": "markdown",
   "metadata": {},
   "source": [
    "---\n",
    "layout: post\n",
    "title: Unit 7 hw\n",
    "description: Arraylist\n",
    "type: collab\n",
    "toc: true\n",
    "permalink: /csa/unit7/homework/\n",
    "menu: nav/CSA_Units/csa_unitsummary.html\n",
    "comments: true\n",
    "author: Sri, Saathwik, Aiden, Tanav\n",
    "---"
   ]
  },
  {
   "cell_type": "markdown",
   "metadata": {
    "vscode": {
     "languageId": "java"
    }
   },
   "source": [
    "# 7.2 Homework\n",
    "## Hard Hack: **\"Simple Inventory Manager\"**\n",
    "\n",
    "### Problem Statement:\n",
    "\n",
    "You are building a basic inventory system using Java’s `ArrayList` to manage a list of items in a store. You will implement functions to add, update, delete, and view items in the inventory.\n",
    "\n",
    "**Starting Inventory**:  \n",
    "The inventory already contains the following items:\n",
    "- `\"Laptop\"`, `\"Mouse\"`, `\"Keyboard\"`\n",
    "\n",
    "Your task is to:\n",
    "1. **Add items** to the inventory.\n",
    "2. **Update an item** at a specific position in the inventory.\n",
    "3. **Delete an item** from the inventory.\n",
    "4. **View all the items** currently in the inventory.\n",
    "\n",
    "### Directions:\n",
    "\n",
    "1. **Create an `ArrayList`** called `inventory` that holds strings representing the items.\n",
    "2. **Implement the following methods**:\n",
    "    - `addItem(ArrayList<String> inventory, String item)`: Adds an item to the inventory.\n",
    "    - `updateItem(ArrayList<String> inventory, int index, String newItem)`: Updates the item at the specified index.\n",
    "    - `deleteItem(ArrayList<String> inventory, int index)`: Deletes the item at the specified index.\n",
    "    - `viewInventory(ArrayList<String> inventory)`: Displays all the items in the inventory.\n",
    "\n",
    "3. **In your `main()` method**:\n",
    "    - Initialize the `inventory` with the starting items.\n",
    "    - Add one new item to the inventory.\n",
    "    - Update the second item.\n",
    "    - Delete the third item.\n",
    "    - Display the final inventory.\n",
    "\n",
    "### Example Workflow:\n",
    "\n",
    "1. Start with the `inventory`: `[\"Laptop\", \"Mouse\", \"Keyboard\"]`.\n",
    "2. Add `\"Monitor\"`.\n",
    "3. Update `\"Mouse\"` to `\"Gaming Mouse\"`.\n",
    "4. Delete `\"Keyboard\"`.\n",
    "5. Display the final `inventory`.\n",
    "\n",
    "---\n",
    "\n",
    "### Expectations:\n",
    "\n",
    "- Ensure **valid index** when updating or deleting items (handle out-of-bounds indices).\n",
    "- Use the **`get()`, `set()`, `add()`, and `remove()`** methods to manage the `ArrayList`.\n",
    "- After all operations, print the final version of the `inventory` using `viewInventory()`.\n",
    "\n",
    "---"
   ]
  },
  {
   "cell_type": "code",
   "execution_count": 5,
   "metadata": {
    "vscode": {
     "languageId": "java"
    }
   },
   "outputs": [
    {
     "name": "stdout",
     "output_type": "stream",
     "text": [
      "Current Inventory: [Laptop, Gaming Mouse, Monitor]\n"
     ]
    }
   ],
   "source": [
    "import java.util.ArrayList;\n",
    "\n",
    "public class InventoryManager {\n",
    "\n",
    "    public static void addItem(ArrayList<String> inventory, String item) {\n",
    "        inventory.add(item);\n",
    "    }\n",
    "    public static void updateItem(ArrayList<String> inventory, int index, String newItem) {\n",
    "        if (index >= 0 && index < inventory.size()) {\n",
    "            inventory.set(index, newItem);\n",
    "        } else {\n",
    "            System.out.println(\"Invalid index. Cannot update.\");\n",
    "        }\n",
    "    }\n",
    "    public static void deleteItem(ArrayList<String> inventory, int index) {\n",
    "        if (index >= 0 && index < inventory.size()) {\n",
    "            inventory.remove(index);\n",
    "        } else {\n",
    "            System.out.println(\"Invalid index. Cannot delete.\");\n",
    "        }\n",
    "    }\n",
    "    public static void viewInventory(ArrayList<String> inventory) {\n",
    "        System.out.println(\"Current Inventory: \" + inventory);\n",
    "    }\n",
    "\n",
    "    public static void main(String[] args) {\n",
    "        ArrayList<String> inventory = new ArrayList<>();\n",
    "        inventory.add(\"Laptop\");\n",
    "        inventory.add(\"Mouse\");\n",
    "        inventory.add(\"Keyboard\");\n",
    "        addItem(inventory, \"Monitor\");\n",
    "        updateItem(inventory, 1, \"Gaming Mouse\");\n",
    "        deleteItem(inventory, 2);\n",
    "        viewInventory(inventory);\n",
    "    }\n",
    "}\n",
    "InventoryManager.main(null);"
   ]
  },
  {
   "cell_type": "markdown",
   "metadata": {},
   "source": [
    "## 7.4 Homework:\n",
    "\n",
    "(Paragraph Answer)\n",
    "1. What is the difference between the two examples above. Which one is better and why?\n",
    "\n",
    "(Code Answer)\n",
    "\n",
    "2. Make your own algorithm using ArrayLists that finds the sum of the elements in the ArrayList"
   ]
  },
  {
   "cell_type": "markdown",
   "metadata": {},
   "source": [
    "1. I believe that using Arrays would be better since we technically have no need to really add elements to the array currently making it useless to use an Arraylist. Apart from this with my experience in competitive programming, Arrays are known to be much better to use when you can since they are faster. "
   ]
  },
  {
   "cell_type": "code",
   "execution_count": 4,
   "metadata": {
    "vscode": {
     "languageId": "java"
    }
   },
   "outputs": [
    {
     "name": "stdout",
     "output_type": "stream",
     "text": [
      "6.0\n"
     ]
    }
   ],
   "source": [
    "// Problem 2\n",
    "public Double findsum(ArrayList<Double>numbers){\n",
    "    double sum = 0; for (Double i:numbers)sum += i;\n",
    "    return sum;\n",
    "}\n",
    "\n",
    "ArrayList<Double>numbers=new ArrayList<>();\n",
    "numbers.add(1.0);\n",
    "numbers.add(2.0);\n",
    "numbers.add(3.0);\n",
    "System.out.println(findsum(numbers));"
   ]
  },
  {
   "cell_type": "markdown",
   "metadata": {},
   "source": [
    "# 7.5 Homework\n",
    "- Imagine you're an online E-store that sells video games. Use linear searching to help Aidan find if the game, Grand Theft Auto V, is offered in the E-store. If it is, tell him the price. If it isn't, tell him where he can find it"
   ]
  },
  {
   "cell_type": "code",
   "execution_count": 3,
   "metadata": {
    "vscode": {
     "languageId": "java"
    }
   },
   "outputs": [
    {
     "name": "stdout",
     "output_type": "stream",
     "text": [
      "Found at index 4\n"
     ]
    }
   ],
   "source": [
    "import java.util.ArrayList;\n",
    "\n",
    "public class searchString {\n",
    "    public static void main(String[] args) {\n",
    "        ArrayList<String> videoGames = new ArrayList<String>();\n",
    "        videoGames.add(\"Roblox\");\n",
    "        videoGames.add(\"Fortnite\");\n",
    "        videoGames.add(\"Valorant\");\n",
    "        videoGames.add(\"Apex Legends\");\n",
    "        videoGames.add(\"GTA V\");\n",
    "        int index=0;\n",
    "        for(String i:videoGames){\n",
    "            if(i.equals(\"GTA V\")){\n",
    "                System.out.println(\"Found at index \"+index);\n",
    "            }\n",
    "            index+=1;\n",
    "        }\n",
    "    }\n",
    "}\n",
    "searchString.main(null);"
   ]
  },
  {
   "cell_type": "markdown",
   "metadata": {},
   "source": [
    "# 7.6 Homework\n",
    "\n",
    "- You're a teacher for a computer science class at Rancho Bernardo. You have a list of all the grades of the students in your class but its hard to see who has the highest and lowest grade. Use either insertion sort or selection sort to sort the ArrayList so the grades are easy to see. \n"
   ]
  },
  {
   "cell_type": "code",
   "execution_count": 2,
   "metadata": {
    "vscode": {
     "languageId": "java"
    }
   },
   "outputs": [
    {
     "name": "stdout",
     "output_type": "stream",
     "text": [
      "[60, 67, 68, 73, 76, 77, 78, 82, 83, 84, 85, 88, 88, 89, 91, 91, 92, 94, 95, 97]\n"
     ]
    }
   ],
   "source": [
    "import java.util.ArrayList;\n",
    "\n",
    "public class SortTest\n",
    "{\n",
    "    public static void someSortingAlgorithm(ArrayList<Integer> elements) //insertion sort is so yummy\n",
    "    {   \n",
    "        int i = 1;\n",
    "        while (i < elements.size()) {\n",
    "            int current = elements.get(i);\n",
    "            int j = i - 1; // starting from the last index before the element we are on\n",
    "            while (j >= 0 && elements.get(j) > current) { // lets traverse till we reach the begining of the array and if the current index is less than the element keep moving it back to its goal position(yum emoji)\n",
    "                elements.set(j + 1, elements.get(j));\n",
    "                j--;\n",
    "            }\n",
    "            elements.set(j + 1,current);\n",
    "            i++;\n",
    "        }\n",
    "        System.out.println(elements); // we print our beautiful array here\n",
    "        \n",
    "    }\n",
    "\n",
    "    public static void main(String[] args) //why rbhs\n",
    "    {\n",
    "        ArrayList<Integer> arr1 = new ArrayList<>();\n",
    "        arr1.add(85);\n",
    "        arr1.add(92);\n",
    "        arr1.add(76);\n",
    "        arr1.add(88);\n",
    "        arr1.add(67);\n",
    "        arr1.add(94);\n",
    "        arr1.add(73);\n",
    "        arr1.add(89);\n",
    "        arr1.add(91);\n",
    "        arr1.add(82);\n",
    "        arr1.add(78);\n",
    "        arr1.add(88);\n",
    "        arr1.add(95);\n",
    "        arr1.add(60);\n",
    "        arr1.add(84);\n",
    "        arr1.add(77);\n",
    "        arr1.add(91);\n",
    "        arr1.add(68);\n",
    "        arr1.add(97);\n",
    "        arr1.add(83);\n",
    "        someSortingAlgorithm(arr1);\n",
    "\n",
    "        /* code */\n",
    "    }\n",
    "}\n",
    "SortTest.main(null);"
   ]
  },
  {
   "cell_type": "markdown",
   "metadata": {},
   "source": [
    "### 7.7 Homework Problem: Exploring Hashing and Privacy Protection (Extra Credit)\n",
    "\n",
    "#### **Problem:**\n",
    "Write a Java program that simulates how hashing works in protecting passwords. You will implement the following tasks:\n",
    "\n",
    "1. **Task 1: Basic Password Hashing**\n",
    "   - Write a program that accepts a user's password input and generates a hash using the **`hashCode()`** method.\n",
    "   - Display the original password and the hash to show how the same input always produces the same hash.\n",
    "\n",
    "2. **Task 2: Salting the Password**\n",
    "   - Enhance the program by generating a random **salt** for the password. Append the salt to the password before hashing, and display both the salt and the hashed password.\n",
    "   - Store the salt separately and demonstrate that the same password with a different salt produces a different hash.\n",
    "\n",
    "3. **Task 3: Verifying the Password**\n",
    "   - Write a method that simulates logging in by taking a password and salt as input, hashing them again, and comparing the result to the previously stored hash.\n",
    "   - If the hash matches, display \"Login Successful\"; otherwise, display \"Login Failed.\"\n",
    "\n",
    "#### **Extra Challenge (Optional):**\n",
    "- Research and use the **`MessageDigest`** class in Java to implement password hashing with a more secure algorithm like **SHA-256**. Modify your program to use this instead of `hashCode()`.\n",
    "\n"
   ]
  },
  {
   "cell_type": "code",
   "execution_count": 1,
   "metadata": {
    "vscode": {
     "languageId": "java"
    }
   },
   "outputs": [
    {
     "name": "stdout",
     "output_type": "stream",
     "text": [
      "80778446\n",
      "80778446\n",
      "false\n",
      "1306877813 1306624233\n",
      "Login is successful\n",
      "Login is successful\n",
      "Login failed\n",
      "Login failed\n"
     ]
    }
   ],
   "source": [
    "import java.security.*;\n",
    "import java.util.*;\n",
    "import java.nio.charset.StandardCharsets;\n",
    "\n",
    "// Problem 1\n",
    "public String hashcode(String password){\n",
    "    return String.valueOf(password.hashCode());\n",
    "}\n",
    "System.out.println(hashcode(\"Thing\"));\n",
    "System.out.println(hashcode(\"Thing\"));\n",
    "\n",
    "// Problem 2(Lets add a bit of salt shall we)\n",
    "public static String generateSalt() { \n",
    "    SecureRandom random = new SecureRandom();\n",
    "    byte[] yummysalt = new byte[2];\n",
    "    random.nextBytes(yummysalt);\n",
    "    return Base64.getEncoder().encodeToString(yummysalt);\n",
    "}\n",
    "String password=\"Thing\";\n",
    "String passSalt1=hashcode(password+generateSalt());\n",
    "String passSalt2=hashcode(password+generateSalt());\n",
    "System.out.println(passSalt1==passSalt2);\n",
    "System.out.println(passSalt1+\" \"+passSalt2);\n",
    "\n",
    "// Problem 3\n",
    "\n",
    "public class User {\n",
    "    private String salt;\n",
    "    private String hashedPassword;\n",
    "\n",
    "    public User(String password) throws NoSuchAlgorithmException {\n",
    "        this.salt = generateSalt();\n",
    "        this.hashedPassword = hashPassword(password);\n",
    "    }\n",
    "\n",
    "    private static String generateSalt() { \n",
    "        SecureRandom random = new SecureRandom();\n",
    "        byte[] yummysalt = new byte[16];\n",
    "        random.nextBytes(yummysalt);\n",
    "        return Base64.getEncoder().encodeToString(yummysalt);\n",
    "    }\n",
    "\n",
    "    private String hashPassword(String password) throws NoSuchAlgorithmException {\n",
    "        MessageDigest digest = MessageDigest.getInstance(\"SHA-256\");\n",
    "        byte[] hash = digest.digest(password.getBytes(StandardCharsets.UTF_8));\n",
    "        StringBuilder hexString = new StringBuilder();\n",
    "        for (byte b : hash) {\n",
    "            String hex = Integer.toHexString(0xff & b);\n",
    "            if (hex.length() == 1) hexString.append('0');\n",
    "            hexString.append(hex);\n",
    "        }\n",
    "        return hexString.toString(); // Return hashed password as hex string yum emoji\n",
    "        // return String.valueOf((password + this.salt).hashCode());\n",
    "    }\n",
    "\n",
    "    public String verifyPassword(String password) throws NoSuchAlgorithmException {\n",
    "        if (hashPassword(password).equals(this.hashedPassword)) {\n",
    "            return \"Login is successful\";\n",
    "        }\n",
    "        return \"Login failed\";\n",
    "    }\n",
    "}\n",
    "\n",
    "// Testing code\n",
    "ArrayList<User> users = new ArrayList<>();\n",
    "\n",
    "User user1 = new User(\"Secret\");\n",
    "User user2 = new User(\"Secret\");\n",
    "\n",
    "users.add(user1);\n",
    "users.add(user2);\n",
    "\n",
    "String entered = \"Secret\";\n",
    "System.out.println(users.get(0).verifyPassword(entered));\n",
    "System.out.println(users.get(1).verifyPassword(entered));\n",
    "\n",
    "String badEntered = \"peepeepoopoo\";\n",
    "System.out.println(users.get(0).verifyPassword(badEntered));\n",
    "System.out.println(users.get(1).verifyPassword(badEntered));\n",
    "\n"
   ]
  }
 ],
 "metadata": {
  "kernelspec": {
   "display_name": "Java",
   "language": "java",
   "name": "java"
  },
  "language_info": {
   "codemirror_mode": "java",
   "file_extension": ".jshell",
   "mimetype": "text/x-java-source",
   "name": "Java",
   "pygments_lexer": "java",
   "version": "17.0.11+7-LTS-207"
  }
 },
 "nbformat": 4,
 "nbformat_minor": 2
}
