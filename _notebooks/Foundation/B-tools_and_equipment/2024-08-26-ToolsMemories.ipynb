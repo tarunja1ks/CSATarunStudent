{
 "cells": [
  {
   "cell_type": "raw",
   "metadata": {
    "vscode": {
     "languageId": "raw"
    }
   },
   "source": [
    "---\n",
    "layout: post\n",
    "title:  Tool Memories\n",
    "description: These are my memories of the Tools and all the verification proofs for them. \n",
    "---"
   ]
  },
  {
   "cell_type": "markdown",
   "metadata": {},
   "source": [
    "## Alias Commmands\n",
    "- alias verify=\"bash Verification.sh\"\n",
    "- alias Installer=\"bash InstallSpencerPark.sh\", I had made a spencer park java kernel installer since the activate macos script didnt work for the class. \n",
    "\n",
    "## Installation Checks\n",
    "\n",
    "![VerifyCommandwithversionchecks](https://github.com/user-attachments/assets/1a1cfae4-998f-4f58-bc02-1f578d3a3020)\n",
    "1. Homebrew Installation since I need to have my amazing package manager to install some tools whenever.\n",
    "\n",
    "2. Ruby and Bundler are both combined installations, but this is necessary for running make.\n",
    "\n",
    "3. Python is pretty important for running some of my installations such as nbconvert and for ipynb notebooks so I have a relatively up to date version of python.\n",
    "\n",
    "4. Mdless was needed to run one of the last code cells in the verify section of the nighthawk pages and I used this installations to do stuff like listing out all the commands using the code from nighthawk pages, which I thought was cool.\n",
    "\n",
    "5. I check all of the jupyter core packages and as you can see nbconvert is one of these packages and this is important for make.\n",
    "\n",
    "6. Over here, you can see my java kernel installed, and I used my custom script to do this, and also this script was able to install it on Johnathon's machine too. \n",
    "\n",
    "7. Over here you can see all of my git config stuff setup, so I am able to push to github. \n",
    "\n",
    "8. My project and repo both exist in my machine and this script from Nighthawk pages was integrated into my verficiation script.\n",
    "\n",
    "\n",
    "## Verification Code Cells\n",
    "![Screenshot 2024-08-26 at 11 25 08 PM](https://github.com/user-attachments/assets/eb130625-3c3d-4482-bf3c-d7f2dd77a1c9)\n",
    "![Screenshot 2024-08-26 at 11 25 28 PM](https://github.com/user-attachments/assets/6613eaf3-8d77-4cec-babc-a8b1ecf6d728)\n",
    "![Screenshot 2024-08-26 at 11 25 54 PM](https://github.com/user-attachments/assets/46686462-b672-409b-a159-f90a836ea721)\n",
    "![Screenshot 2024-08-26 at 11 26 14 PM](https://github.com/user-attachments/assets/bc5cddf7-08a8-4b64-94f0-69c6ef743499)\n",
    "![Screenshot 2024-08-26 at 11 26 56 PM](https://github.com/user-attachments/assets/f039166d-2c96-4220-ac92-9e4030ded90b)\n",
    "![Screenshot 2024-08-26 at 11 27 07 PM](https://github.com/user-attachments/assets/22924eea-a5c1-47e1-bb60-12e8c351fe3d)\n",
    "![Screenshot 2024-08-26 at 11 27 27 PM](https://github.com/user-attachments/assets/142501c4-7bba-4d9a-8546-02c14647f451)\n",
    "![Screenshot 2024-08-26 at 11 27 44 PM](https://github.com/user-attachments/assets/176a5d2a-c413-4d5c-8606-908b1a47205d)\n",
    "![Screenshot 2024-08-26 at 11 27 55 PM](https://github.com/user-attachments/assets/05580869-07d3-403c-a65b-0b3f49faef31)\n",
    "![Screenshot 2024-08-26 at 11 28 05 PM](https://github.com/user-attachments/assets/3e19a5e4-0336-458d-bd67-a39c45b67bda)\n",
    "![Screenshot 2024-08-26 at 11 29 10 PM](https://github.com/user-attachments/assets/7c05c1b4-e853-42b1-bca9-66ffbde64b7a)\n",
    "![Screenshot 2024-08-26 at 11 29 28 PM](https://github.com/user-attachments/assets/be8b1a59-b115-4a41-8159-cc81571e8e10)\n",
    "![Screenshot 2024-08-26 at 11 29 52 PM](https://github.com/user-attachments/assets/12d41b18-39ae-441f-b4e9-080df6f820a0)\n",
    "\n",
    "\n",
    "\n",
    "\n",
    "\n",
    "\n",
    "\n"
   ]
  }
 ],
 "metadata": {
  "kernelspec": {
   "display_name": ".venv",
   "language": "python",
   "name": "python3"
  },
  "language_info": {
   "codemirror_mode": {
    "name": "ipython",
    "version": 3
   },
   "file_extension": ".py",
   "mimetype": "text/x-python",
   "name": "python",
   "nbconvert_exporter": "python",
   "pygments_lexer": "ipython3",
   "version": "3.11.7"
  }
 },
 "nbformat": 4,
 "nbformat_minor": 2
}
