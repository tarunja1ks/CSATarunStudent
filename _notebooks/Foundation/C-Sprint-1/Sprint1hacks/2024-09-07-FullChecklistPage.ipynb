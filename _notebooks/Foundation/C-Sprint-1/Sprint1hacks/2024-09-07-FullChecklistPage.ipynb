{
 "cells": [
  {
   "cell_type": "markdown",
   "metadata": {},
   "source": [
    "---\n",
    "layout: post\n",
    "title: Sprint 1 - Review Agenda+Links\n",
    "description:  A smooth planning to make a smooth and organized review\n",
    "type: hacks \n",
    "comments: True\n",
    "---"
   ]
  },
  {
   "cell_type": "markdown",
   "metadata": {
    "vscode": {
     "languageId": "plaintext"
    }
   },
   "source": [
    "              **Student Skills Checklist**\n",
    "\n",
    "- [ ] **Laptop Verification or Cloud Workspace**\n",
    "  - Rank: 0\n",
    "  - Notes: verification by Linux commands notebook\n",
    "\n",
    "- [ ] **VSCode**\n",
    "  - Rank: 0\n",
    "  - Notes: live change code, commit, make, run localhost, test, debug\n",
    "\n",
    "- [ ] **Show VSCode GitLens**\n",
    "  - Rank: 0\n",
    "  - Notes: verify commits, show change, comments, reset to commit, run on old commit\n",
    "\n",
    "- [ ] **GitHub cloud repo**\n",
    "  - Rank: 0\n",
    "  - Notes: live push change, verify id, review profile\n",
    "\n",
    "- [ ] **GitHub Pages Actions**\n",
    "  - Rank: 0\n",
    "  - Notes: review runs and verify runtime, receive demo\n",
    "\n",
    "- [ ] **Hacks Tools & Equipment Play**\n",
    "  - Rank: 0\n",
    "  - Notes:\n",
    "\n",
    "- [ ] **Hacks GitHub Pages Playground**\n",
    "  - Rank: 0\n",
    "  - Notes:\n",
    "\n",
    "- [ ] **Hacks SASS Basics**\n",
    "  - Rank: 0\n",
    "  - Notes:\n",
    "\n",
    "- [ ] **Hacks Jupyter Notebook**\n",
    "  - Rank: 0\n",
    "  - Notes:\n",
    "\n",
    "- [ ] **Pair Programming**\n",
    "  - Rank: 0\n",
    "  - Notes: tangibles that show co-operative work\n",
    "\n",
    "_Originally posted by @jm1021 in https://github.com/nighthawkcoders/portfolio_2025/issues/14#issuecomment-2237380182_\n",
    "            "
   ]
  },
  {
   "cell_type": "markdown",
   "metadata": {},
   "source": [
    "# Hacks \n",
    "### Hacks Tools & Equipment Play\n",
    "[old tools installation](https://tarunja1ks.github.io/CSATarunStudent/2024/08/26/ToolsMemories_IPYNB_2_.html)\n",
    "[new installs](https://tarunja1ks.github.io/CSATarunStudent/2024/09/08/NewToolInstallations_IPYNB_2_.html)\n",
    "\n",
    "Notes:\n",
    "- Now includes the java 17\n",
    "- Can run java kernels very well\n",
    "\n",
    "\n",
    "\n",
    "### Hacks GitHub Pages Playground(and SASS Hack)\n",
    "[github pages](https://tarunja1ks.github.io/CSATarunStudent/github/pages/hacks)\n",
    "\n",
    "Notes: \n",
    "- Includes changing the theme\n",
    "- Includes the SASS BASICS POPCORN HACK(in here since I saw it was a shared hack)\n",
    "\n",
    "\n",
    "### Hack Jupyter Notebooks\n",
    "[jupyter notebooks](https://tarunja1ks.github.io/CSATarunStudent/jupyter/notebook/python)\n",
    "\n",
    "Notes:\n",
    "- Created a Hack for Fake News Detection\n",
    "- Used the Newspaper api taught in the page\n",
    "- Used the emoji to output a fun message at the end and be more visually appealing to the user\n",
    "- Used MultinomialNaive Bayes model\n",
    "- Used tfdvectorizer to convert the string input into a vector\n",
    "\n",
    "\n",
    "### Frontend Development\n",
    "[Frontend wireframe hacks](https://tarunja1ks.github.io/CSATarunStudent/2024/09/03/frontend-basics-playground_IPYNB_2_.html)\n",
    "\n",
    "Notes:\n",
    "- Did each of the wire frame hacks adding buttons to daveshotchicken website and text about it"
   ]
  }
 ],
 "metadata": {
  "language_info": {
   "name": "python"
  }
 },
 "nbformat": 4,
 "nbformat_minor": 2
}
