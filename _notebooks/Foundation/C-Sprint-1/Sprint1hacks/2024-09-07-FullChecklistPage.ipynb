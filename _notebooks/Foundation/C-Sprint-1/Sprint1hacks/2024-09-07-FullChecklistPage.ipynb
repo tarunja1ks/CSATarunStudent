{
 "cells": [
  {
   "cell_type": "markdown",
   "metadata": {},
   "source": [
    "---\n",
    "layout: post\n",
    "title: Sprint 1 - Review Agenda+Links\n",
    "description:  A smooth planning to make a smooth and organized review\n",
    "type: issues \n",
    "comments: true\n",
    "---"
   ]
  },
  {
   "cell_type": "markdown",
   "metadata": {
    "vscode": {
     "languageId": "plaintext"
    }
   },
   "source": [
    "Student Skills Checklist\n",
    "\n",
    " Laptop Verification or Cloud Workspace\n",
    "\n",
    "Rank: 0\n",
    "Notes: verification by Linux commands notebook\n",
    " VSCode\n",
    "\n",
    "Rank: 0\n",
    "Notes: live change code, commit, make, run localhost, test, debug\n",
    " Show VSCode GitLens\n",
    "\n",
    "Rank: 0\n",
    "Notes: verify commits, show change, comments, reset to commit, run on old commit\n",
    " GitHub cloud repo\n",
    "\n",
    "Rank: 0\n",
    "Notes: live push change, verify id, review profile\n",
    " GitHub Pages Actions\n",
    "\n",
    "Rank: 0\n",
    "Notes: review runs and verify runtime, receive demo\n",
    " Hacks Tools & Equipment Play\n",
    "\n",
    "Rank: 0\n",
    "Notes:\n",
    " Hacks GitHub Pages Playground\n",
    "\n",
    " \n",
    "\n",
    "Rank: 0\n",
    "Notes:\n",
    " Hacks SASS Basics\n",
    "\n",
    "Rank: 0\n",
    "Notes:\n",
    " Hacks Jupyter Notebook\n",
    "\n",
    "Rank: 0\n",
    "Notes:\n",
    " Pair Programming\n",
    "\n",
    "Rank: 0\n",
    "Notes: tangibles that show co-operative work"
   ]
  }
 ],
 "metadata": {
  "language_info": {
   "name": "python"
  }
 },
 "nbformat": 4,
 "nbformat_minor": 2
}
