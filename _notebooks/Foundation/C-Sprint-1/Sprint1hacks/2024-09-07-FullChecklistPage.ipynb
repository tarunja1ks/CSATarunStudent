{
 "cells": [
  {
   "cell_type": "markdown",
   "metadata": {},
   "source": [
    "---\n",
    "layout: post\n",
    "title: Sprint 1 - Review Agenda+Links\n",
    "description:  A smooth planning to make a smooth and organized review\n",
    "type: hacks \n",
    "comments: true\n",
    "---"
   ]
  },
  {
   "cell_type": "markdown",
   "metadata": {},
   "source": [
    "# Hacks \n",
    "### Hacks Tools & Equipment Play\n",
    "[old tools installation](https://tarunja1ks.github.io/CSATarunStudent/2024/08/26/ToolsMemories_IPYNB_2_.html)\n",
    "\n",
    "[new installs](https://tarunja1ks.github.io/CSATarunStudent/2024/09/08/NewToolInstallations_IPYNB_2_.html)\n",
    "\n",
    "Notes:\n",
    "- Now includes the java 17\n",
    "- Can run java kernels very well\n",
    "\n",
    "\n",
    "### Hacks GitHub Pages Playground(and SASS Hack)\n",
    "[github pages](https://tarunja1ks.github.io/CSATarunStudent/github/pages/hacks)\n",
    "\n",
    "Notes: \n",
    "- Includes changing the theme\n",
    "- Includes the SASS BASICS POPCORN HACK(in here since I saw it was a shared hack)\n",
    "- Updated home and about page\n",
    "\n",
    "\n",
    "### Hack Jupyter Notebooks\n",
    "[jupyter notebooks](https://tarunja1ks.github.io/CSATarunStudent/jupyter/notebook/python)\n",
    "\n",
    "Notes:\n",
    "- Created a Hack for Fake News Detection\n",
    "- Used the Newspaper api taught in the page\n",
    "- Used the emoji to output a fun message at the end and be more visually appealing to the user\n",
    "- Used MultinomialNaive Bayes model\n",
    "- Used tfdvectorizer to convert the string input into a vector\n",
    "\n",
    "\n",
    "### Frontend Development\n",
    "[Frontend wireframe hacks](https://tarunja1ks.github.io/CSATarunStudent/2024/09/03/frontend-basics-playground_IPYNB_2_.html)\n",
    "\n",
    "Notes:\n",
    "- Did each of the wire frame hacks adding buttons to daveshotchicken website and text about it\n",
    "\n",
    "\n",
    "### Pair Showcase\n",
    "[Frontend Repo](https://github.com/spooketti/VoiceNote.git)\n",
    "\n",
    "[Backend Repo](https://github.com/spooketti/VoiceNoteServer)"
   ]
  }
 ],
 "metadata": {
  "language_info": {
   "name": "python"
  }
 },
 "nbformat": 4,
 "nbformat_minor": 2
}
