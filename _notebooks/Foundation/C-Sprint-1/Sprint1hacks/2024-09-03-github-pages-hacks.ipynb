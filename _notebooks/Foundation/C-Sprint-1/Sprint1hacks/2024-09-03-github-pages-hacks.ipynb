{
 "cells": [
  {
   "cell_type": "raw",
   "metadata": {
    "vscode": {
     "languageId": "raw"
    }
   },
   "source": [
    "---\n",
    "layout: post\n",
    "title: GitHub Pages Hacks \n",
    "description: Objective is to be able to work fully with Notebooks, Submenus, and Anatomy to create your own personal interest blog.\n",
    "categories: [Github Pages]\n",
    "permalink: /github/pages/hacks\n",
    "menu: nav/Sprint1.html\n",
    "toc: true\n",
    "---"
   ]
  },
  {
   "cell_type": "markdown",
   "metadata": {},
   "source": [
    "## GitHub Pages Hacks\n",
    "Enhance or update your GitHub Pages using your new knowledge from Previous Hacks.\n",
    "\n",
    "- Alter index.md with images and links according to some of your personal interests projet.\n",
    "- Make your index.md contain a submenu that points to several Notebooks.\n",
    "- Make one of the Notebooks a planning document on what you attempted to do versus accomplishment.\n",
    "- Make one of the Notebooks running a JavaScript cell\n",
    "- Make one of the Notebooks and About Pages\n",
    "\n",
    "![homepageNew](https://github.com/user-attachments/assets/eaf8bf48-3b90-438f-906d-91cfdc15bcb1)\n",
    "\n",
    "![updatedaboutme](https://github.com/user-attachments/assets/48effcb7-c231-46e7-b3b5-0a62e234d5d8)"
   ]
  },
  {
   "cell_type": "markdown",
   "metadata": {},
   "source": [
    "## Theme Hacks\n",
    "- Setup your blog so you can rotate between two different themes, one in _config.yml and one in _sass/minima\n",
    "- Be prepared for live demonstration and show you have equivalent functionality.\n",
    "- Be sure you have something in your blog that uses Nighthawk SASS.\n"
   ]
  },
  {
   "cell_type": "markdown",
   "metadata": {},
   "source": [
    "![CodeforThemeChange](https://github.com/user-attachments/assets/caab2215-a7da-4d82-85bb-aac8ed3acafc)\n",
    "\n",
    "![Theme Change Working](https://github.com/user-attachments/assets/93c72d96-f82c-407b-ba2f-8b703b6cb247)\n",
    "\n",
    "\n",
    "![CodeSassMinimaChange](https://github.com/user-attachments/assets/56590936-05ed-4e97-b513-ca1fa0dcfea9)\n",
    "\n",
    "![SassMinimaChange](https://github.com/user-attachments/assets/230f47b4-f4a7-4ccc-99a5-1f28aa443729)"
   ]
  },
  {
   "cell_type": "markdown",
   "metadata": {},
   "source": []
  },
  {
   "cell_type": "markdown",
   "metadata": {},
   "source": [
    "## Jekyll and Liquid Hack\n",
    "- **Alter the appearance of the blogs**.  Modify the layout, style, or content of your blog posts to reflect your personal taste.\n",
    "\n",
    "\n",
    "![Menu Bar Jekyll Hack](https://github.com/user-attachments/assets/f3efad1d-2957-422f-a4c0-525544479e80)\n",
    "\n",
    "\n",
    "Notes\n",
    "- Includes a beautiful menubar\n",
    "- Changes the layout of the blog post\n",
    "- Allows easy/visual acsess to switch between the different hacks\n",
    "\n"
   ]
  },
  {
   "cell_type": "markdown",
   "metadata": {},
   "source": [
    "## Utterances Hacks\n",
    "- Setup your blogs for direct feedback.  \n",
    "- Get two other people to mutually share work.\n",
    "- Each should evaluate how many thing were accomplished versus asked."
   ]
  }
 ],
 "metadata": {
  "language_info": {
   "name": "python"
  }
 },
 "nbformat": 4,
 "nbformat_minor": 2
}
