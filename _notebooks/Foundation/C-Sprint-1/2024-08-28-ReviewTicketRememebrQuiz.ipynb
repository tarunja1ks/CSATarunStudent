{
 "cells": [
  {
   "cell_type": "markdown",
   "metadata": {},
   "source": [
    "---\n",
    "layout: post\n",
    "title: The Remember forever Quiz \n",
    "description:  Tools and Software Development Remember Quiz\n",
    "type: issues \n",
    "comments: true\n",
    "---"
   ]
  },
  {
   "cell_type": "markdown",
   "metadata": {},
   "source": [
    "1. This is my ls command I deleted the vscode direct AND the nighthawk directory to prove it, but this home directory has lots of projects due to my projects in middle school, where I made everything directly in my home directory, which was silly. \n",
    "<img width=\"1449\" alt=\"Screenshot 2024-08-27 at 8 43 33 AM\" src=\"https://github.com/user-attachments/assets/13ebf1c1-27ef-4719-8b90-ad76a42519a8\">\n",
    "\n",
    "\n",
    "2. This is me and Arthur helping Derek and Bailey with their page after deleting, and I know its hard to see but both Bailey and Derek have their name in the top left corner for the title of the website after editing config.yml.\n",
    "![PIc with students](https://github.com/user-attachments/assets/8f4c62ca-386c-4e56-b4cb-f777f2991312)\n",
    "\n",
    "\n",
    "3. This is my own repo and as you see the page says Sir Tarun Jaikumar on the top proving its mine and it has the time in the top right corner.\n",
    "<img width=\"1470\" alt=\"Screenshot 2024-08-27 at 9 19 23 AM\" src=\"https://github.com/user-attachments/assets/d7ebeb4f-c2be-4e98-be1e-d25c2569a37a\">\n",
    "\n",
    "\n",
    "4. The rm command is used to delete projects/files and we did this so we can't cheat and we will be forced to reinastall all of our tools. \n",
    "\n"
   ]
  }
 ],
 "metadata": {
  "language_info": {
   "name": "python"
  }
 },
 "nbformat": 4,
 "nbformat_minor": 2
}
