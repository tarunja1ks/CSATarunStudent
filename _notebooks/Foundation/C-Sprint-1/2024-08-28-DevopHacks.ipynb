{
 "cells": [
  {
   "cell_type": "markdown",
   "metadata": {},
   "source": [
    "---\n",
    "layout: post\n",
    "title: Question Hacks Tool Live Review\n",
    "description:   Question Hacks Tool Live Review\n",
    "type: issues \n",
    "comments: true\n",
    "---"
   ]
  },
  {
   "cell_type": "markdown",
   "metadata": {},
   "source": [
    "## Version Control- Tarun\n",
    "- I use SDLC and git into my version control, which is important for working/collaborating on projects with others\n",
    "- I have local machine files and I have files on the github server, which is apart of a \"repo\", and I update my local files to the repo by \"commiting\"\n",
    "- I have SDLC so whenever I have an improvement no matter how small it is, I immediately test locally and commit to show my progress, and if something breaks, I can revert a commit too\n",
    "\n",
    "## Local Host vs Deployed- Johnathon\n",
    "\n",
    "- The localhost URL for my project is http://127.0.0.1:4100/CSATarunStudent/, and no one else can see what I see because the project when using localhost url runs on my local machine in port 4100, rather than running on a public server.\n",
    "- The github Pages Url for my project is https://tarunja1ks.github.io/CSATarunStudent/, and others can see what I see since its running publicily on the github pages server, rather than just on my computer. It is using the github.io domain.\n",
    "\n",
    "## DNS and GitHub Pages- Johnathon\n",
    "\n",
    "- There is a domain on my Github Pages deployed site and it is github.io.\n",
    "- The url for my github pages is different from my neighbhors URL since it has a different subdomain with my github username, and also the endpoint is different as I used the name CSATarunStudent, and I didn’t put my last name, since I don’t know any other Tarun’s in the school, as it is not a common name in dnhs."
   ]
  }
 ],
 "metadata": {
  "language_info": {
   "name": "python"
  }
 },
 "nbformat": 4,
 "nbformat_minor": 2
}
