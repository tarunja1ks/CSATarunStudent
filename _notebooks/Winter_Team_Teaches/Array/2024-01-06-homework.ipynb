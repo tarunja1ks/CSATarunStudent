{
 "cells": [
  {
   "cell_type": "markdown",
   "metadata": {},
   "source": [
    "---\n",
    "layout: post\n",
    "toc: true\n",
    "title: Array/Homework\n",
    "description: AP CSA FRQ Array/Arraylist Homework\n",
    "courses: { csa: {week: 1} }\n",
    "type: ccc\n",
    "categories: [AP CSA]\n",
    "menu: nav/student_toolkit/P3CSATeamTeach/array.html\n",
    "permalink: /teamteach/array/homework\n",
    "---"
   ]
  },
  {
   "cell_type": "markdown",
   "metadata": {},
   "source": [
    "# Homework\n",
    "\n",
    "Write a program that randomly fills in 0s and 1s into an n-by-n matrix, prints the matrix, and finds the rows and columns with the most 1s. (Hint: Use two ArrayLists to store the row and column indices with the most 1s.) \n",
    "\n",
    "Here is a sample run of the program, printed in the console: \n",
    "```\n",
    "Enter the array size n: 4\n",
    "The random array is\n",
    "0011\n",
    "0011\n",
    "1101\n",
    "1010\n",
    "The largest row index: 2\n",
    "The largest column index: 2, 3 \n",
    "```"
   ]
  },
  {
   "cell_type": "code",
   "execution_count": 1,
   "metadata": {
    "vscode": {
     "languageId": "java"
    }
   },
   "outputs": [
    {
     "name": "stdout",
     "output_type": "stream",
     "text": [
      "Enter the array size n: The random array is\n",
      "01110\n",
      "00010\n",
      "00001\n",
      "00000\n",
      "10011\n",
      "The largest row index: 0, 4\n",
      "The largest column index: 3\n"
     ]
    }
   ],
   "source": [
    " BufferedReader reader = new BufferedReader(new InputStreamReader(System.in));\n",
    "\n",
    "System.out.print(\"Enter the array size n: \");\n",
    "int n = Integer.parseInt(reader.readLine());\n",
    "\n",
    "int[][] matrix = new int[n][n];\n",
    "for (int i = 0; i < n; i++) {\n",
    "    for (int j = 0; j < n; j++) {\n",
    "        matrix[i][j] = (int) (Math.random() * 2);\n",
    "    }\n",
    "}\n",
    "\n",
    "System.out.println(\"The random array is\");\n",
    "for (int i = 0; i < n; i++) {\n",
    "    for (int j = 0; j < n; j++) {\n",
    "        System.out.print(matrix[i][j]);\n",
    "    }\n",
    "    System.out.println();\n",
    "}\n",
    "\n",
    "ArrayList<Integer> AL2dRows = new ArrayList<>();\n",
    "int maxRowCount = 0;\n",
    "\n",
    "for (int i = 0; i < n; i++) {\n",
    "    int rowCount = 0;\n",
    "    for (int j = 0; j < n; j++) {\n",
    "        if (matrix[i][j] == 1) {\n",
    "            rowCount++;\n",
    "        }\n",
    "    }\n",
    "    if (rowCount > maxRowCount) {\n",
    "        maxRowCount = rowCount;\n",
    "        AL2dRows.clear();\n",
    "        AL2dRows.add(i);\n",
    "    } else if (rowCount == maxRowCount) {\n",
    "        AL2dRows.add(i);\n",
    "    }\n",
    "}\n",
    "\n",
    "ArrayList<Integer> AL2dCols = new ArrayList<>();\n",
    "int maxColCount = 0;\n",
    "\n",
    "for (int j = 0; j < n; j++) {\n",
    "    int colCount = 0;\n",
    "    for (int i = 0; i < n; i++) {\n",
    "        if (matrix[i][j] == 1) {\n",
    "            colCount++;\n",
    "        }\n",
    "    }\n",
    "    if (colCount > maxColCount) {\n",
    "        maxColCount = colCount;\n",
    "        AL2dCols.clear();\n",
    "        AL2dCols.add(j);\n",
    "    } else if (colCount == maxColCount) {\n",
    "        AL2dCols.add(j);\n",
    "    }\n",
    "}\n",
    "\n",
    "System.out.print(\"The largest row index: \");\n",
    "for (int i = 0; i < AL2dRows.size(); i++) {\n",
    "    System.out.print(AL2dRows.get(i));\n",
    "    if (i < AL2dRows.size() - 1) System.out.print(\", \");\n",
    "}\n",
    "System.out.println();\n",
    "\n",
    "System.out.print(\"The largest column index: \");\n",
    "for (int i = 0; i < AL2dCols.size(); i++) {\n",
    "    System.out.print(AL2dCols.get(i));\n",
    "    if (i < AL2dCols.size() - 1) System.out.print(\", \");\n",
    "}\n",
    "System.out.println();"
   ]
  }
 ],
 "metadata": {
  "kernelspec": {
   "display_name": "Java",
   "language": "java",
   "name": "java"
  },
  "language_info": {
   "codemirror_mode": "java",
   "file_extension": ".jshell",
   "mimetype": "text/x-java-source",
   "name": "Java",
   "pygments_lexer": "java",
   "version": "18.0.2+9-FR"
  }
 },
 "nbformat": 4,
 "nbformat_minor": 2
}
