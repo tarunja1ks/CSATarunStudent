{
 "cells": [
  {
   "cell_type": "markdown",
   "metadata": {},
   "source": [
    "---\n",
    "layout: post\n",
    "title: Finals Review Part 2(2 Points part)\n",
    "categories: [AP CSA]\n",
    "permalink: /Final2\n",
    "---"
   ]
  },
  {
   "cell_type": "markdown",
   "metadata": {},
   "source": [
    "# 1. Full Stack Feature Demo\n",
    "\n",
    "Will put a video recording of this later"
   ]
  },
  {
   "cell_type": "markdown",
   "metadata": {},
   "source": [
    "# 2. Java"
   ]
  },
  {
   "cell_type": "markdown",
   "metadata": {
    "vscode": {
     "languageId": "plaintext"
    }
   },
   "source": [
    "# 3. N@tM feedback\n",
    "\n",
    "https://github.com/CSA-Coders-2025/Planning-Repository-Issue-House-/issues/208#issue-2875965939 \n",
    "\n",
    "- Key takeaways for submission\n",
    "    - Improving the UI\n",
    "    - Make it more readable and understandable to use at first glance\n",
    "    - The failed submission color is green should be red to highlight it more"
   ]
  }
 ],
 "metadata": {
  "language_info": {
   "name": "python"
  }
 },
 "nbformat": 4,
 "nbformat_minor": 2
}
