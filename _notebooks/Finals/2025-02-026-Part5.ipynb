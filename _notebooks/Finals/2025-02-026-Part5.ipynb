{
 "cells": [
  {
   "cell_type": "markdown",
   "metadata": {},
   "source": [
    "---\n",
    "layout: post\n",
    "title: Finals Review Part 5(1 Points part)\n",
    "categories: [AP CSA]\n",
    "permalink: /Final5\n",
    "---"
   ]
  },
  {
   "cell_type": "markdown",
   "metadata": {},
   "source": [
    "# Weaknesses/Strengths\n",
    "\n",
    "## Weaknesses\n",
    "- CSS/SASS and styling skills in general, since from the NATM feedback although my main feature page is functional\n",
    "- User-understandable better since people generally didn't understand how the submission page worked as a whole until demoing more in depth\n",
    "- Debugging, since I often made mistakes that cost me a lot of time/stuck on simple things\n",
    "\n",
    "## Strengths\n",
    "- Java, I have been coding in it for 4-5 years now and the backend was a lot easier for me to do\n",
    "- js requests, since I now use it everywhere in my code\n",
    "- Modular code, which uses functions to make code shorter and easier\n",
    "- CSS Key animations, which was a lot of fun for me to make things move around\n",
    "- Although not perfect, I think my speaking skills have massively improved from last year, and I am more firm and able to articulate in what I say"
   ]
  },
  {
   "cell_type": "markdown",
   "metadata": {},
   "source": [
    "# Intresting projects\n",
    "<img width=\"437\" alt=\"Image\" src=\"https://github.com/user-attachments/assets/7b2df706-a937-4d08-bbfa-f29454125e51\" />\n",
    "\n",
    "<img width=\"478\" alt=\"Image\" src=\"https://github.com/user-attachments/assets/4e64fa9d-5c4f-4aa9-9af0-766594712d8c\" />\n",
    "\n",
    "- I enjoyed Mathews bathroom Scanner project, and I thought it was cool how they were able to use a rasberry pi and also a physical hardware into their CS feature\n",
    "\n",
    "- I enjoyed the CSSE projects with the Among US-like game and I thought it was cool how they were able to recreate some of the UI for that\n",
    "\n",
    "- I liked the crypto/banking system in general for CSA and it was cool how we could make a game in the class somewhat with stuff MADE in the class(Ive recently started crypto and thought that this was pretty cool. I also tried mining on another old computer I have and it was pretty fun. )"
   ]
  },
  {
   "cell_type": "markdown",
   "metadata": {},
   "source": [
    "# My future as CS Student(in college, internships, career)\n",
    "- Currently, something I have going on is some CS/Robotics research within UCSD, which I have been communicating on slack with. We are also planning to do a workshop just on basics of robotics based CS mainly for undergrads, but is available to anyone who would like to come. \n",
    "\n",
    "- My speaking and communication skills have largely improved but I think I have a long way to go. I was able to use some of these skills to land a research position at UCSD, and to get reinvited by a professor back for some good work in the summer to do a full-time position and a more technical project. I want to do a lot of research in the future too on robotics but also CS too and how to apply it. I think it's cool about how hardware and software are able to integrate and want to even learn something like PCB designing.\n",
    "\n",
    "- Career plans, I plan to do a college major in CS and possibly something related to eletrical engineering too. (Possibly doing ECE or ESE). Although, I am still deciding what I fully want to do, I am defintely intrested in doing something CS related.\n",
    "\n",
    "\n"
   ]
  }
 ],
 "metadata": {
  "language_info": {
   "name": "python"
  }
 },
 "nbformat": 4,
 "nbformat_minor": 2
}
