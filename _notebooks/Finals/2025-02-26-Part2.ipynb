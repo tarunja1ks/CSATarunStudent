{
 "cells": [
  {
   "cell_type": "markdown",
   "metadata": {},
   "source": [
    "---\n",
    "layout: post\n",
    "title: Finals Review Part 2(2 Points part)\n",
    "permalink: /Final2\n",
    "menu: nav/csa_final2.html\n",
    "---"
   ]
  },
  {
   "cell_type": "markdown",
   "metadata": {},
   "source": [
    "# 1. Full Stack Feature Demo\n",
    "\n",
    "https://youtu.be/QUkkNdgPdww "
   ]
  },
  {
   "cell_type": "markdown",
   "metadata": {},
   "source": [
    "# 2. Java\n",
    "| Endpoint           | Link                                                                                                                |\n",
    "|--------------------|---------------------------------------------------------------------------------------------------------------------|\n",
    "| Submissions        | [Submission.java](https://github.com/CSA-Coders-2025/CSA_Combined_Backend_Fork/blob/5acc40a16a0befbd1118ede19355f2c713afdb0b/src/main/java/com/nighthawk/spring_portfolio/mvc/mortevision/Submission.java) |\n",
    "| Submissions API    | [SubmissionApiController.java](https://github.com/CSA-Coders-2025/CSA_Combined_Backend_Fork/blob/5acc40a16a0befbd1118ede19355f2c713afdb0b/src/main/java/com/nighthawk/spring_portfolio/mvc/mortevision/SubmissionApiController.java) |\n",
    "| Submission Repository | [SubmissionJpaRepository.java](https://github.com/CSA-Coders-2025/CSA_Combined_Backend_Fork/blob/5acc40a16a0befbd1118ede19355f2c713afdb0b/src/main/java/com/nighthawk/spring_portfolio/mvc/mortevision/SubmissionJpaRepository.java) |\n",
    "| LateSubmissions    | [Late Submission Submission.java changes](https://github.com/CSA-Coders-2025/CSA_Combined_Backend_Fork/commit/258add1f5e136094c8f39817ae7bfb81974953b2) |\n"
   ]
  },
  {
   "cell_type": "markdown",
   "metadata": {
    "vscode": {
     "languageId": "plaintext"
    }
   },
   "source": [
    "# 3. N@tM feedback\n",
    "\n",
    "https://github.com/CSA-Coders-2025/Planning-Repository-Issue-House-/issues/208#issue-2875965939 \n",
    "\n",
    "- Key takeaways for submission\n",
    "    - Improving the UI\n",
    "    - Make it more readable and understandable to use at first glance\n",
    "    - The failed submission color is green should be red to highlight it more\n",
    "    - People enjoyed the functionality and its use-case\n",
    "    - People enjoyed the UI of the late submission showing with time remaining/deadline due"
   ]
  },
  {
   "cell_type": "code",
   "execution_count": null,
   "metadata": {
    "vscode": {
     "languageId": "plaintext"
    }
   },
   "outputs": [],
   "source": []
  },
  {
   "cell_type": "markdown",
   "metadata": {
    "vscode": {
     "languageId": "plaintext"
    }
   },
   "source": [
    "## Self Grade(1.82/2)\n",
    "\n",
    "I think I excelled in this part of the rubric given, as although not perfect yet(versions exist however). \n",
    "\n",
    "- I believe I have massively improved the UI of the group submissions compared to it's original form. I now have a simple toggle. I even got some oohs/awws from I believe 2 nighthawkcoders students about the deadline bouncing up and down which I think was a UI they liked. I also am a lot more familiar with database operations and springboot in Java right now, which is a huge improvement for me, as before I have never really worked on something like springboot, although some other cool projects. \n",
    "\n",
    "\n",
    "- However, I think I can still improve on simplifiying the UI a bit. I was given feedback that it was a bit plain, and although I like plain better(I use to do some glows which seemed weird), it might not be to everyone's preference. Next time, I can possibly incorporate more sass and possibly even do style switching for what the user might prefer. "
   ]
  }
 ],
 "metadata": {
  "language_info": {
   "name": "python"
  }
 },
 "nbformat": 4,
 "nbformat_minor": 2
}
