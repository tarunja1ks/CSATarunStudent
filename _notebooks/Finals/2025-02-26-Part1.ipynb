{
 "cells": [
  {
   "cell_type": "markdown",
   "metadata": {},
   "source": [
    "---\n",
    "layout: post\n",
    "title: Finals Review Part 1 (5 points part)\n",
    "menu: nav/csa_final2.html\n",
    "permalink: /Final1\n",
    "---"
   ]
  },
  {
   "cell_type": "markdown",
   "metadata": {},
   "source": []
  },
  {
   "cell_type": "markdown",
   "metadata": {},
   "source": [
    "# 1. Burndown List\n",
    "1. Adding a deadline/date due or time left to the frontent page(done)\n",
    "2. Finish up the flowchart fully(done)\n",
    "3. Test out the submission feature with a few people/groups(done)\n",
    "4. Someone broke the submissions/assignments so fix it back up(someone completely deleted half my code very sad)(done)\n",
    "5. Improving the usability/styling of the frontend group submissions stuff(done)\n",
    "6. Adding in the group submissions(done)\n"
   ]
  },
  {
   "cell_type": "markdown",
   "metadata": {
    "vscode": {
     "languageId": "plaintext"
    }
   },
   "source": [
    "# Future Goals\n",
    "\n",
    "1. Improving the UI of the whole thing\n",
    "2. Making more clear on how to use the page(or just making the page simpler)"
   ]
  },
  {
   "cell_type": "markdown",
   "metadata": {},
   "source": [
    "# 2. Lesson/Teamteach\n",
    "\n",
    "### FRQS Notes/Homework all in a page so I can go back\n",
    "https://tarunja1ks.github.io/CSATarunStudent/csa/FRQ/Homepages \n",
    "\n",
    "\n",
    "- My group did lesson on Jquery/Thymeleaf which helped me learn about some of the backend usages of frontend too, such as using the thymeleaf, and also helped me learn how to quickly code stuff like thymeleaf api calls, where we can do model.attribute and easily pass in the object/variable\n",
    "\n",
    "- My favorite lesson was the recursion one since that is an area where I struggle especially since I lose count of many things when doing it(very tricky since so many steps to keep repeating)\n",
    "    - I liked their use of a table to track the recursive calls\n",
    "    - I liked their funny memes/pictures, which also explained it pretty well\n",
    "\n",
    "https://nighthawkcoders.github.io/portfolio_2025/recursion/p3_recursion_part1\n",
    "\n",
    "- I also liked Aadit's teamteach on 2d Arrays, or more specifically the homework which went back to a usaco style problem iterating through the array and using algorithims to speed it up\n",
    "\n",
    "https://tarunja1ks.github.io/CSATarunStudent/csa/frqs/p3/2darrays2/homework "
   ]
  },
  {
   "cell_type": "markdown",
   "metadata": {},
   "source": [
    "| **Category**   | **Description**                                            | **Link**                                                                                                              |\n",
    "|----------------|------------------------------------------------------------|----------------------------------------------------------------------------------------------------------------------|\n",
    "| **Frontend**   | Adding in the toggle                                       | [Commit Link](https://github.com/CSA-Coders-2025/CSA_Combined_Frontend_Fork/commit/e501adba6d7e38559224d4b7abd928c0366898bb) |\n",
    "| **Frontend**   | Group Submissions                                          | [Commit Link](https://github.com/CSA-Coders-2025/CSA_Combined_Frontend_Fork/commit/5f170faa9e37d3b76a1585f7bb1674d1cf321015) |\n",
    "| **Frontend**   | Fixing up Submissions                                      | [Commit Link](https://github.com/CSA-Coders-2025/CSA_Combined_Frontend_Fork/commit/f3ba45cca8385d04286bfd903bd6bc20de380dad) |\n",
    "| **Frontend**   | Deadlines                                                  | [Commit Link](https://github.com/CSA-Coders-2025/CSA_Combined_Frontend_Fork/commit/219795f2c0253b7e8b105b2acc5e55901ac614f7) |\n",
    "| **Backend**    | Adding in late submissions                                 | [Commit Link](https://github.com/CSA-Coders-2025/CSA_Combined_Backend_Fork/commit/258add1f5e136094c8f39817ae7bfb81974953b2) |\n",
    "| **Backend**    | Id wasn't in the assignment so quick change  | [Commit Link](https://github.com/CSA-Coders-2025/CSA_Combined_Backend_Fork/commit/caff08b13cea8c5e) |\n"
   ]
  },
  {
   "cell_type": "markdown",
   "metadata": {
    "vscode": {
     "languageId": "plaintext"
    }
   },
   "source": [
    "## Self Grade(4.5/5)\n",
    "\n",
    "I believe that over these past 12 weeks, I have been working pretty hard on the PBL, teamteach too with it, and also have lots of backend, and frontend commits to back it up. However, I believe I still can do a lot more backend commits, since although I did hundreds of backend lines in Tri 1, I have been mainly focusing on improving the frontend after the integration between periods, as a lot of my code was erased and replaced with similar code. However, I still worked a bit on the backend adding some features like late submissions and more. "
   ]
  }
 ],
 "metadata": {
  "language_info": {
   "name": "python"
  }
 },
 "nbformat": 4,
 "nbformat_minor": 2
}
