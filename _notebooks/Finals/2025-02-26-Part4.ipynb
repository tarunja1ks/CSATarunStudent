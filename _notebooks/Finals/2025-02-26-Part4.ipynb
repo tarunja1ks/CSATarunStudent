{
 "cells": [
  {
   "cell_type": "markdown",
   "metadata": {},
   "source": [
    "---\n",
    "layout: post\n",
    "title: Finals Review Part 4(1 Points part)\n",
    "permalink: /Final4\n",
    "menu: nav/csa_final2.html\n",
    "---"
   ]
  },
  {
   "cell_type": "markdown",
   "metadata": {},
   "source": [
    "![Image](https://github.com/user-attachments/assets/bfb4540e-b600-4af5-896a-5165cb6fe1fb)"
   ]
  },
  {
   "cell_type": "markdown",
   "metadata": {},
   "source": [
    "![Image](https://github.com/user-attachments/assets/3ee89289-12e1-4895-8ad0-ca7cfa12a0f2) "
   ]
  },
  {
   "cell_type": "markdown",
   "metadata": {},
   "source": [
    "## Key Takeaways\n",
    "- Do more use of tables for the recursion problems since there are 6 of them\n",
    "- Remmeber for methods like substring it is exclusive for the ending index\n",
    "- For the iteration, remmeber to also use tables and take time/be catreful since it is 7 questions of that \n",
    "- Go over primitves/using objects and classes in general again since although less problems on it should score higher percentage of them right as they are just knowing java\n"
   ]
  },
  {
   "cell_type": "markdown",
   "metadata": {
    "vscode": {
     "languageId": "plaintext"
    }
   },
   "source": [
    "![Image 1](https://github.com/user-attachments/assets/d6876a3c-c803-40f0-a4f7-1b9a3aa42bcc)**\n",
    "* Correction: Always double-check the order of your answer, especially in questions involving specific sequences or positions.\n",
    "\n",
    "![Image 2](https://github.com/user-attachments/assets/30e86e44-dc73-42d4-86ce-600a2f1d48c0)**\n",
    "* Correction: Practice basic arithmetic drills to improve accuracy. Use a calculator to double-check if needed.\n",
    "\n",
    "![Image 3](https://github.com/user-attachments/assets/3e377257-0aae-41de-9896-21b4709163d4)**\n",
    "* Correction:\n",
    "    * Carefully analyze the differences between numbers.\n",
    "    * Look for repeating patterns (addition, subtraction, multiplication, division).\n",
    "    * Write down the pattern if it helps.\n",
    "\n",
    "![Image 4](https://github.com/user-attachments/assets/58918647-bcf6-4d37-b338-4cfe43928769)**\n",
    "* Correction:\n",
    "    * Focus on the changes in shape, position, or shading.\n",
    "    * Try to visualize the next step in the sequence.\n",
    "    * If possible, draw the next shape.\n",
    "\n",
    "![Image 5](https://github.com/user-attachments/assets/be067ada-9d61-4664-b525-bc0dd259ae4c)**\n",
    "* Correction:\n",
    "    * Look for common differences, ratios, or other relationships between numbers.\n",
    "    * Consider alternating patterns or combinations of operations.\n",
    "\n",
    "![Image 6](https://github.com/user-attachments/assets/b3a1e504-9af5-4a9a-bf4f-c2ade37d17b0)**\n",
    "* Correction:\n",
    "    * Mentally rotate the shapes.\n",
    "    * Pay attention to specific details like the position of elements within the shape.\n",
    "    * If possible, draw the rotations out.\n",
    "\n",
    "![Image 7](https://github.com/user-attachments/assets/579af0f2-daf5-4443-ace1-ad046235a9c6)**\n",
    "* Correction:\n",
    "    * Read the problem carefully and identify the key information.\n",
    "    * Break down the problem into smaller steps.\n",
    "    * Double-check your calculations.\n",
    "\n",
    "![Image 8](https://github.com/user-attachments/assets/5f8f0c94-67f7-4ea0-8345-40ce18db1d79)**\n",
    "* Correction:\n",
    "    * Look for relationships between the shapes or symbols.\n",
    "    * Try to identify the rule that governs the sequence.\n",
    "    * Consider size, color, shape, and position.\n",
    "\n",
    "![Image 9](https://github.com/user-attachments/assets/779382cf-c772-42f3-91d2-ba65131d4a58)**\n",
    "* Correction:\n",
    "    * Try to find the difference between each number.\n",
    "    * See if there is a multiplication or division pattern.\n",
    "    * Sometimes there are multiple patterns combined.\n",
    "\n",
    "![Image 10](https://github.com/user-attachments/assets/78f3f3ba-d2f6-4387-98e9-2e95fdd15308)**\n",
    "* Correction:\n",
    "    * Analyze the relationships between the elements in the grid or sequence.\n",
    "    * Look for repeating patterns or logical connections.\n",
    "\n",
    "![Image 11](https://github.com/user-attachments/assets/1918b419-490e-407b-87da-4fd232a7571f)**\n",
    "* Correction:\n",
    "    * Carefully read the given statements.\n",
    "    * Use logical deduction to arrive at the correct answer.\n",
    "    * If possible, use a process of elimination.\n",
    "\n",
    "![Image 12](https://github.com/user-attachments/assets/05b801eb-8342-4c96-997e-57abf352070d)**\n",
    "* Correction:\n",
    "    * Pay attention to the specific changes in the shapes (size, orientation, additions, removals).\n",
    "    * Try to identify a consistent rule.\n",
    "\n",
    "![Image 13](https://github.com/user-attachments/assets/b75b2641-ada6-4f02-8642-7caf4cd1a3df)**\n",
    "* Correction:\n",
    "    * Double-check your arithmetic.\n",
    "    * Look for a consistent pattern of addition, subtraction, multiplication, or division."
   ]
  },
  {
   "cell_type": "markdown",
   "metadata": {},
   "source": [
    "## Self Grade(0.90/1)\n",
    "\n",
    "Although, the score looks pretty low, I believe I have learned a lot from this mcq. I also timed it(with 20 minutes gap), which might have been one of the huge attributing factors to it being low. \n",
    "\n",
    "## Key Takeaways\n",
    "- Do more use of tables for the recursion problems since there are 6 of them\n",
    "- Remmeber for methods like substring it is exclusive for the ending index\n",
    "- For the iteration, remmeber to also use tables and take time/be catreful since it is 7 questions of that \n",
    "- Go over primitves/using objects and classes in general again since although less problems on it should score higher percentage of them right as they are just knowing java\n",
    "- Keep practicing and trying to be faster while avoiding silly mistakes at the same time \n"
   ]
  }
 ],
 "metadata": {
  "language_info": {
   "name": "python"
  }
 },
 "nbformat": 4,
 "nbformat_minor": 2
}
