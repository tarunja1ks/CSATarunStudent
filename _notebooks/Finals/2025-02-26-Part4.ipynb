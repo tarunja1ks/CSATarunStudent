{
 "cells": [
  {
   "cell_type": "markdown",
   "metadata": {},
   "source": [
    "---\n",
    "layout: post\n",
    "title: Finals Review Part 4(1 Points part)\n",
    "permalink: /Final4\n",
    "menu: nav/csa_final2.html\n",
    "---"
   ]
  },
  {
   "cell_type": "markdown",
   "metadata": {},
   "source": [
    "![Image](https://github.com/user-attachments/assets/bfb4540e-b600-4af5-896a-5165cb6fe1fb)"
   ]
  },
  {
   "cell_type": "markdown",
   "metadata": {},
   "source": [
    "![Image](https://github.com/user-attachments/assets/3ee89289-12e1-4895-8ad0-ca7cfa12a0f2) "
   ]
  },
  {
   "cell_type": "markdown",
   "metadata": {},
   "source": [
    "## Key Takeaways\n",
    "- Do more use of tables for the recursion problems since there are 6 of them\n",
    "- Remmeber for methods like substring it is exclusive for the ending index\n",
    "- For the iteration, remmeber to also use tables and take time/be catreful since it is 7 questions of that \n",
    "- Go over primitves/using objects and classes in general again since although less problems on it should score higher percentage of them right as they are just knowing java\n"
   ]
  }
 ],
 "metadata": {
  "language_info": {
   "name": "python"
  }
 },
 "nbformat": 4,
 "nbformat_minor": 2
}
