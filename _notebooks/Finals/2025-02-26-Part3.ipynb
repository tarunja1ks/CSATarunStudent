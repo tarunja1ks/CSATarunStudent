{
 "cells": [
  {
   "cell_type": "markdown",
   "metadata": {},
   "source": [
    "---\n",
    "layout: post\n",
    "title: Finals Review Part 3(1 Points part)\n",
    "permalink: /Final3\n",
    "menu: nav/csa_final2.html\n",
    "---"
   ]
  },
  {
   "cell_type": "markdown",
   "metadata": {},
   "source": [
    "Link to diagram & explanation of submissions backend: https://nighthawkcoders.github.io/portfolio_2025/student/submissions/backend\n",
    "\n",
    "\n",
    "Overall, over the last few weeks, Aadit, Tarun, and Rahul have been working on improving the assignment submission integration to be functional and useable longterm in CSA.\n",
    "\n",
    "We recently added a feature to allow group submissions and group grading, allowing the teacher to grade groups together. For instance, a group could simply submit one issue as their submission, and Mr. Mortensen can assign a grade once, and that grade will be reflected in all of the students individual grades.\n",
    "\n",
    "This shows the many to many relationship demonstrating how the students tables are attached to each submission:\n",
    "<img width=\"358\" alt=\"Image\" src=\"https://github.com/user-attachments/assets/c611fab3-9e47-40ea-a2c5-9b65c613b91d\" />\n",
    "\n",
    "Here is the code demonstrating how grading is reflected on all students attached to that submission:\n",
    "<img width=\"610\" alt=\"Image\" src=\"https://github.com/user-attachments/assets/eebced85-4e3d-41c1-b825-ef5a6e391111\" />\n",
    "\n",
    "Here is the code showing how submissions are handled on the frontend student side:\n",
    "<img width=\"519\" alt=\"Image\" src=\"https://github.com/user-attachments/assets/09604980-64e4-41e2-9695-d9237ffe9d96\" />\n",
    "\n",
    "Overall, these improvements make the assignment submission system more functional, ensuring a smoother experience for both students and teachers.\n",
    "\n",
    "\n",
    "\n",
    "\n",
    "\n",
    "\n",
    "\n"
   ]
  }
 ],
 "metadata": {
  "language_info": {
   "name": "python"
  }
 },
 "nbformat": 4,
 "nbformat_minor": 2
}
