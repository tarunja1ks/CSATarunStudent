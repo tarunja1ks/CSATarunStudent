{
 "cells": [
  {
   "cell_type": "markdown",
   "metadata": {},
   "source": [
    "---\n",
    "layout: post\n",
    "title: Finals Review Part 3(1 Points part)\n",
    "permalink: /Final3\n",
    "menu: nav/csa_final2.html\n",
    "---"
   ]
  },
  {
   "cell_type": "markdown",
   "metadata": {},
   "source": [
    "Link to diagram & explanation of submissions backend: https://nighthawkcoders.github.io/portfolio_2025/student/submissions/backend\n",
    "\n",
    "\n",
    "Overall, over the last few weeks, Aadit, Tarun, and Rahul have been working on improving the assignment submission integration to be functional and useable longterm in CSA.\n",
    "\n",
    "We recently added a feature to allow group submissions and group grading, allowing the teacher to grade groups together. For instance, a group could simply submit one issue as their submission, and Mr. Mortensen can assign a grade once, and that grade will be reflected in all of the students individual grades.\n",
    "\n",
    "This shows the many to many relationship demonstrating how the students tables are attached to each submission:\n",
    "<img width=\"358\" alt=\"Image\" src=\"https://github.com/user-attachments/assets/c611fab3-9e47-40ea-a2c5-9b65c613b91d\" />\n",
    "\n",
    "\n",
    "Here is the code showing how submissions are handled on the frontend student side:\n",
    "<img width=\"519\" alt=\"Image\" src=\"https://github.com/user-attachments/assets/09604980-64e4-41e2-9695-d9237ffe9d96\" />\n",
    "\n",
    "\n",
    "\n",
    "The submission page has allowed a Nighthawkcoder's based system, where teacher's can grade assignment or students can be assigned other students to grade submissions. It is essential to the integration of a whole grading/assigment system to have one. It also makes teachers jobs much easier as they don't need to individually grade and can rather grade by group now. \n",
    "\n",
    "\n",
    "\n",
    "\n",
    "\n",
    "\n"
   ]
  },
  {
   "cell_type": "markdown",
   "metadata": {},
   "source": [
    "## Self Grade(0.89/1)\n",
    "I believe, I still need to improve the UI for the submission page, and also increase my error handling to make sure if any adjustments break it, then I need to make sure people don't keep submitting to it. However, other than those topics, I believe this is an important key feature that has been integrated pretty well with the other grading and assignment features. I believe, I can try working on the Queue system too and exploring into that area, as an attempt to make it a lot less annoying and actually use some of the database stored values instead of typing it in. "
   ]
  }
 ],
 "metadata": {
  "language_info": {
   "name": "python"
  }
 },
 "nbformat": 4,
 "nbformat_minor": 2
}
